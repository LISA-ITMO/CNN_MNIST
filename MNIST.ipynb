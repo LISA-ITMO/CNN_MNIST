{
 "cells": [
  {
   "cell_type": "markdown",
   "id": "c30abe23-374e-429a-af7c-be35f5427477",
   "metadata": {
    "tags": []
   },
   "source": [
    "## Импорты и настройка окружения"
   ]
  },
  {
   "cell_type": "code",
   "execution_count": 1,
   "id": "fd2f1551-63f7-43bb-b9a8-a6842aeee2b4",
   "metadata": {},
   "outputs": [],
   "source": [
    "import os\n",
    "import time\n",
    "import re\n",
    "from enum import Enum\n",
    "\n",
    "import numpy as np\n",
    "import pandas as pd\n",
    "import matplotlib.pyplot as plt\n",
    "\n",
    "import mlflow\n",
    "from mlflow.models.signature import infer_signature\n",
    "\n",
    "from sklearn.metrics import accuracy_score, confusion_matrix\n",
    "\n",
    "import torch\n",
    "from torch import nn\n",
    "import torch.optim as optim\n",
    "from torch.optim import lr_scheduler\n",
    "from torch.utils.data import DataLoader, random_split\n",
    "\n",
    "import torchvision\n",
    "from torchvision import datasets, models, transforms\n",
    "\n",
    "from tqdm import tqdm, trange\n",
    "from pyngrok import ngrok"
   ]
  },
  {
   "cell_type": "code",
   "execution_count": 2,
   "id": "66079542-14ea-4117-a94a-2259f6993506",
   "metadata": {},
   "outputs": [
    {
     "name": "stdout",
     "output_type": "stream",
     "text": [
      "env: MLFLOW_TRACKING_URI=sqlite:///mlruns.db\n"
     ]
    }
   ],
   "source": [
    "%env MLFLOW_TRACKING_URI=sqlite:///mlruns.db"
   ]
  },
  {
   "cell_type": "markdown",
   "id": "0f51e4d6-3253-40ff-b955-4f8e03b89bbf",
   "metadata": {},
   "source": [
    "## Трансформация"
   ]
  },
  {
   "cell_type": "code",
   "execution_count": 3,
   "id": "aca2311b-621d-4b94-b899-039b8103459c",
   "metadata": {},
   "outputs": [],
   "source": [
    "#degrees=50\n",
    "#distortion_scale=0.7\n",
    "#scale_crop=0.7\n",
    "#ration_crop=0.8"
   ]
  },
  {
   "cell_type": "code",
   "execution_count": 4,
   "id": "f9903a00-dde8-48d3-b0c1-e06e1c70b2a8",
   "metadata": {},
   "outputs": [],
   "source": [
    "transform = transforms.Compose([\n",
    "    #transforms.RandomRotation(degrees=degrees),\n",
    "    #transforms.GaussianBlur(kernel_size=(5, 9), sigma=(0.1, 2)),\n",
    "    #transforms.RandomPerspective(distortion_scale=distortion_scale, p=0.8),\n",
    "    #transforms.RandomResizedCrop(size=(28, 28), scale=(scale_crop, 0.95), ratio=(ration_crop, 0.95)),\n",
    "    transforms.ToTensor()\n",
    "])"
   ]
  },
  {
   "cell_type": "code",
   "execution_count": 5,
   "id": "ade823ad-11e7-4ad1-bc3f-a1be9dee8b1f",
   "metadata": {},
   "outputs": [],
   "source": [
    "def get_transform():\n",
    "    try:\n",
    "        transform\n",
    "    except NameError:\n",
    "        return transforms.Compose([transforms.ToTensor()])\n",
    "    else:\n",
    "        return transform"
   ]
  },
  {
   "cell_type": "markdown",
   "id": "b603129f-63fd-4726-a0a4-a89ef73e8cc8",
   "metadata": {
    "tags": []
   },
   "source": [
    "## Погрузка и настройка данных"
   ]
  },
  {
   "cell_type": "code",
   "execution_count": 6,
   "id": "f1d652b2-71da-463e-8ab6-9a4c33f0f658",
   "metadata": {},
   "outputs": [],
   "source": [
    "generator1 = torch.Generator().manual_seed(42)\n",
    "\n",
    "dataset = datasets.MNIST(root='./data', train=True, transform=transform, download=True)\n",
    "test_dataset = datasets.MNIST(root='./data', train=False, transform=transforms.ToTensor())\n",
    "\n",
    "train_dataset, val_dataset = random_split(dataset, [0.8, 0.2], generator=generator1)\n",
    "\n",
    "DEVICE = torch.device(\"cpu\")"
   ]
  },
  {
   "cell_type": "markdown",
   "id": "17cddc84-f4e9-476c-98b1-cb9d868c91ed",
   "metadata": {
    "tags": []
   },
   "source": [
    "## Методы обучения, предсказания и оценки"
   ]
  },
  {
   "cell_type": "code",
   "execution_count": 7,
   "id": "f9a9846f-a2bb-4453-8a24-5becc302069e",
   "metadata": {},
   "outputs": [],
   "source": [
    "class Timer:\n",
    "    def __enter__(self):\n",
    "        self._start = time.time()\n",
    "        return self\n",
    "\n",
    "    def __exit__(self, type, value, traceback):\n",
    "        self._end = time.time()\n",
    "\n",
    "    def __str__(self):\n",
    "        num = self.float_round()\n",
    "        return f'{num} seconds'\n",
    "    \n",
    "    def float_round(self, cnt_numbers: int = 4) -> float:\n",
    "        return round(self._end - self._start, cnt_numbers)"
   ]
  },
  {
   "cell_type": "code",
   "execution_count": 8,
   "id": "93cd60b7-680a-4853-b137-35cdc5eb2647",
   "metadata": {},
   "outputs": [],
   "source": [
    "def fit_epoch(model, train_loader, criterion, optimizer):\n",
    "    running_loss = 0.0\n",
    "    running_corrects = 0\n",
    "    processed_data_count = 0\n",
    "\n",
    "    for inputs, labels in train_loader:\n",
    "        inputs = inputs.to(DEVICE)\n",
    "        labels = labels.to(DEVICE)\n",
    "\n",
    "        optimizer.zero_grad()\n",
    "\n",
    "        outputs = model(inputs)\n",
    "        preds = torch.argmax(outputs, 1)\n",
    "\n",
    "        loss = criterion(outputs, labels)\n",
    "        loss.backward()\n",
    "        optimizer.step()\n",
    "\n",
    "        running_loss += loss.item() * inputs.size(0)\n",
    "        running_corrects += torch.sum(preds == labels.data)\n",
    "        processed_data_count += inputs.size(0)\n",
    "\n",
    "    train_loss = running_loss / processed_data_count\n",
    "    train_acc = running_corrects.cpu().numpy() / processed_data_count\n",
    "\n",
    "    return train_loss, train_acc"
   ]
  },
  {
   "cell_type": "code",
   "execution_count": 9,
   "id": "1ca4036a-e9d6-495a-91bb-a252a6a1d057",
   "metadata": {},
   "outputs": [],
   "source": [
    "def eval_epoch(model, val_loader, criterion):\n",
    "    model.eval()\n",
    "\n",
    "    running_loss = 0.0\n",
    "    running_corrects = 0\n",
    "    processed_size = 0\n",
    "\n",
    "    for inputs, labels in val_loader:\n",
    "        inputs = inputs.to(DEVICE)\n",
    "        labels = labels.to(DEVICE)\n",
    "\n",
    "        with torch.set_grad_enabled(False):\n",
    "            outputs = model(inputs)\n",
    "            preds = torch.argmax(outputs, 1)\n",
    "\n",
    "            loss = criterion(outputs, labels)\n",
    "\n",
    "        running_loss += loss.item() * inputs.size(0)\n",
    "        running_corrects += torch.sum(preds == labels.data)\n",
    "        processed_size += inputs.size(0)\n",
    "\n",
    "    val_loss = running_loss / processed_size\n",
    "    val_acc = running_corrects.double() / processed_size\n",
    "\n",
    "    return val_loss, val_acc"
   ]
  },
  {
   "cell_type": "code",
   "execution_count": 10,
   "id": "78413ae3-c88a-4edb-8347-ac0ef3d6e13f",
   "metadata": {},
   "outputs": [],
   "source": [
    "def train(train_files, val_files, model, epochs: int, batch_size: int):\n",
    "    train_loader = DataLoader(train_dataset, batch_size=batch_size, shuffle=True)\n",
    "    val_loader = DataLoader(val_dataset, batch_size=batch_size, shuffle=False)\n",
    "\n",
    "    history = []\n",
    "    log_template = \"\\nEpoch {ep:03d} train_loss: {t_loss:0.4f} \\\n",
    "    val_loss {v_loss:0.4f} train_acc {t_acc:0.4f} val_acc {v_acc:0.4f}\"\n",
    "\n",
    "    with tqdm(desc=\"epoch\", total=epochs) as pbar_outer:\n",
    "        opt = torch.optim.Adam(model.parameters())\n",
    "        criterion = nn.CrossEntropyLoss()\n",
    "\n",
    "        for epoch in range(epochs):\n",
    "            train_loss, train_acc = fit_epoch(model, train_loader, criterion, opt)\n",
    "            print(\"loss\", train_loss)\n",
    "\n",
    "            val_loss, val_acc = eval_epoch(model, val_loader, criterion)\n",
    "            history.append((train_loss, train_acc, val_loss, val_acc))\n",
    "\n",
    "            pbar_outer.update(1)\n",
    "            tqdm.write(log_template.format(ep=epoch+1, t_loss=train_loss,\\\n",
    "                                           v_loss=val_loss, t_acc=train_acc, v_acc=val_acc))\n",
    "\n",
    "    return history"
   ]
  },
  {
   "cell_type": "code",
   "execution_count": 11,
   "id": "07c1a3ae-194e-4445-86bd-20652e9d8245",
   "metadata": {},
   "outputs": [],
   "source": [
    "def predict(model, test_loader):\n",
    "    with torch.no_grad():\n",
    "        logits = []\n",
    "\n",
    "        for inputs in test_loader:\n",
    "            if isinstance(inputs, tuple) or isinstance(inputs, list) and len(inputs) == 2:\n",
    "                # if the loader is really loader, then it returns tuple(X, y)\n",
    "                inputs = inputs[0]\n",
    "\n",
    "            inputs = inputs.to(DEVICE)\n",
    "            model.eval()\n",
    "            \n",
    "            outputs = model(inputs).cpu()\n",
    "            logits.append(outputs)\n",
    "\n",
    "    probs = nn.functional.softmax(torch.cat(logits), dim=-1).numpy()\n",
    "    return probs"
   ]
  },
  {
   "cell_type": "markdown",
   "id": "f107b74f-7c48-4fef-a739-b35f99901887",
   "metadata": {
    "tags": []
   },
   "source": [
    "## Архитектуры"
   ]
  },
  {
   "cell_type": "markdown",
   "id": "391d8d2a-d680-4a0c-b161-1e139a01f5bd",
   "metadata": {
    "jp-MarkdownHeadingCollapsed": true,
    "tags": []
   },
   "source": [
    "### Архитектура EnsNet"
   ]
  },
  {
   "cell_type": "code",
   "execution_count": 30,
   "id": "923137b6-b00e-44e7-8290-0bf0907c033d",
   "metadata": {},
   "outputs": [],
   "source": [
    "class EnsNet(nn.Module):\n",
    "  def __init__(self, num_classes=10):\n",
    "      super(EnsNet, self).__init__()\n",
    "      self.features = nn.Sequential(\n",
    "        nn.Conv2d(1, 64, kernel_size=3, padding=1),\n",
    "        nn.BatchNorm2d(64),\n",
    "        nn.ReLU(inplace=True),\n",
    "        nn.Dropout(0.35),\n",
    "        nn.Conv2d(64, 128, kernel_size=3),\n",
    "        nn.BatchNorm2d(128),\n",
    "        nn.ReLU(inplace=True),\n",
    "        nn.Dropout(0.35),\n",
    "        nn.Conv2d(128, 256, 3, padding=1),\n",
    "        nn.BatchNorm2d(256),\n",
    "        nn.ReLU(inplace=True),\n",
    "        nn.MaxPool2d(kernel_size=2, stride=2),\n",
    "        nn.Dropout(0.35),\n",
    "        nn.Conv2d(256, 512, kernel_size=3, padding=1),\n",
    "        nn.BatchNorm2d(512),\n",
    "        nn.ReLU(inplace=True),\n",
    "        nn.Dropout(0.35),\n",
    "        nn.Conv2d(512, 1024, kernel_size=3),\n",
    "        nn.BatchNorm2d(1024),\n",
    "        nn.ReLU(inplace=True),\n",
    "        nn.Dropout(0.35),\n",
    "        \n",
    "      )\n",
    "      self.avgpool = nn.AdaptiveAvgPool2d((3, 3))\n",
    "      self.classifier_major = nn.Linear(216, num_classes)\n",
    "      self.classifiers = nn.ModuleList([\n",
    "          nn.Linear(216, num_classes)\n",
    "          for _ in range(10)\n",
    "      ])\n",
    "      self.weights = nn.Parameter(torch.ones(11) / 11, requires_grad=True)\n",
    "\n",
    "  def forward(self, x):\n",
    "    x = self.features(x)\n",
    "    x = self.avgpool(x)\n",
    "    x = torch.flatten(x, 1)\n",
    "    x_major = self.classifier_major(x[:, :216])\n",
    "    x_rest = [classifier(x[:, 216 * i :216 * (i + 1) ]) for i, classifier in enumerate(self.classifiers)]\n",
    "    all_x = torch.stack([x_major] + x_rest, dim=1)\n",
    "    weighted_x = torch.sum(all_x * self.weights.view(1, -1, 1), dim=1)\n",
    "    return weighted_x"
   ]
  },
  {
   "cell_type": "markdown",
   "id": "187257fe-d0cc-49ba-a213-efdf0141979f",
   "metadata": {
    "jp-MarkdownHeadingCollapsed": true,
    "tags": []
   },
   "source": [
    "### AlexNet"
   ]
  },
  {
   "cell_type": "code",
   "execution_count": 12,
   "id": "9d44efba-c874-4eb1-af55-82dd52b94c11",
   "metadata": {},
   "outputs": [],
   "source": [
    "class AlexNet(nn.Module):   \n",
    "    def __init__(self, num=10):\n",
    "        super(AlexNet, self).__init__()\n",
    "        self.feature = nn.Sequential(\n",
    "            nn.Conv2d(1, 32, kernel_size=5, stride=1, padding=1),\n",
    "            nn.ReLU(inplace=True), \n",
    "            nn.Conv2d(32, 64, kernel_size=3, padding=1),\n",
    "            nn.ReLU(inplace=True),   \n",
    "            nn.MaxPool2d( kernel_size=2, stride=2),\n",
    "            nn.Conv2d(64, 96, kernel_size=3, padding=1),\n",
    "            nn.ReLU(inplace=True),                         \n",
    "            nn.Conv2d(96, 64, kernel_size=3, padding=1),\n",
    "            nn.ReLU(inplace=True),                         \n",
    "            nn.Conv2d(64, 32, kernel_size=3, padding=1),\n",
    "            nn.ReLU(inplace=True),\n",
    "            nn.MaxPool2d( kernel_size=2, stride=1),\n",
    "        )\n",
    "        self.classifier = nn.Sequential(\n",
    "            nn.Dropout(),\n",
    "            nn.Linear(32*12*12,2048),\n",
    "            nn.ReLU(inplace=True),\n",
    "            nn.Dropout(),\n",
    "            nn.Linear(2048,1024),\n",
    "            nn.ReLU(inplace=True),\n",
    "            nn.Linear(1024,num),\n",
    "         \n",
    "        )\n",
    "    \n",
    "    def forward(self, x):\n",
    "\n",
    "        x = self.feature(x)\n",
    "        x = x.view(-1,32*12*12)\n",
    "        x = self.classifier(x)\n",
    "        return x"
   ]
  },
  {
   "cell_type": "markdown",
   "id": "4cd33c83-96a5-4b54-9e7e-b6ffe99307f0",
   "metadata": {
    "jp-MarkdownHeadingCollapsed": true,
    "tags": []
   },
   "source": [
    "### VGG8"
   ]
  },
  {
   "cell_type": "code",
   "execution_count": 12,
   "id": "402d58c7-00d3-40a5-abb1-a206977c2b57",
   "metadata": {},
   "outputs": [],
   "source": [
    "class VGG8(nn.Module):\n",
    "    def __init__(self):\n",
    "        super(VGG8, self).__init__()\n",
    "        # 1 input image channel, 6 output channels, 3x3 square conv kernel\n",
    "        self.conv1 = nn.Sequential(nn.Conv2d(in_channels=1, out_channels=6,  kernel_size=(3,3)),  nn.ReLU(), nn.MaxPool2d(stride=1, kernel_size=(2*2)))\n",
    "\n",
    "        self.conv2 = nn.Sequential(nn.Conv2d(6, 16, kernel_size=(3,3)), nn.ReLU(), nn.MaxPool2d(stride=1, kernel_size=(2*2)))\n",
    "\n",
    "        self.conv3 = nn.Sequential(nn.Conv2d(16, 32, kernel_size=(3,3)), nn.ReLU(), nn.MaxPool2d(stride=1, kernel_size=(2*2)))\n",
    "\n",
    "        self.conv4 = nn.Sequential(nn.Conv2d(32, 64, kernel_size=(3,3)), nn.ReLU(), nn.MaxPool2d(stride=1, kernel_size=(2*2)))\n",
    "        self.conv5 = nn.Sequential(nn.Conv2d(64, 64, kernel_size=(3,3)), nn.ReLU(), nn.MaxPool2d(stride=1, kernel_size=(2*2)))\n",
    "        self.fc1 = nn.Sequential(nn.Flatten(),nn.Linear(5184, 64), nn.ReLU())\n",
    "        self.fc2 = nn.Sequential(nn.Linear(64, 128), nn.ReLU())\n",
    "        self.fc3 = nn.Linear(128,10)\n",
    "    def forward(self, x):\n",
    "        x = self.conv1(x)\n",
    "        x = self.conv2(x)\n",
    "        x = self.fc1(x)\n",
    "        x = self.fc2(x)\n",
    "        x = self.fc3(x)\n",
    "\n",
    "        return x"
   ]
  },
  {
   "cell_type": "markdown",
   "id": "015af038-0844-4025-8297-5b7e046aba51",
   "metadata": {
    "jp-MarkdownHeadingCollapsed": true,
    "tags": []
   },
   "source": [
    "### ResNet"
   ]
  },
  {
   "cell_type": "code",
   "execution_count": 12,
   "id": "c171d867-3ad5-450b-937c-4a0bffff1c38",
   "metadata": {},
   "outputs": [],
   "source": [
    "class BasicBlock(nn.Module):\n",
    "  def __init__(self, in_channels, out_channels, stride=1):\n",
    "    super(BasicBlock, self).__init__()\n",
    "    self.conv1 = nn.Conv2d(in_channels, out_channels, kernel_size=3, stride=stride, padding=1, bias=False)\n",
    "    self.bn1 = nn.BatchNorm2d(out_channels)\n",
    "    self.conv2 = nn.Conv2d(out_channels, out_channels, kernel_size=3, stride=1, padding=1, bias=False)\n",
    "    self.bn2 = nn.BatchNorm2d(out_channels)\n",
    "\n",
    "    self.shortcut = nn.Sequential()\n",
    "    if stride != 1 or in_channels != out_channels:\n",
    "      self.shortcut = nn.Sequential(\n",
    "        nn.Conv2d(in_channels, out_channels, kernel_size=1, stride=stride, bias=False),\n",
    "        nn.BatchNorm2d(out_channels)\n",
    "      )\n",
    "  def forward(self, x):\n",
    "    out = nn.ReLU(inplace=True)(self.bn1(self.conv1(x)))\n",
    "    out = self.bn2(self.conv2(out))\n",
    "    out += self.shortcut(x)\n",
    "    out = nn.ReLU(inplace=True)(out)\n",
    "    return out\n",
    "\n",
    "class ResNet(nn.Module):\n",
    "  def __init__(self, num_classes=10):\n",
    "    super(ResNet, self).__init__()\n",
    "    self.in_channels = 16\n",
    "\n",
    "    self.model = nn.Sequential(\n",
    "      nn.Conv2d(1, 16, kernel_size=3, stride=1, padding=1, bias=False),\n",
    "      nn.BatchNorm2d(16),\n",
    "      nn.ReLU(inplace=True),\n",
    "      nn.MaxPool2d(kernel_size=3, stride=2, padding=1),\n",
    "      self._make_layer(16, 2, stride=1),\n",
    "      self._make_layer(32, 2, stride=2),\n",
    "      self._make_layer(64, 2, stride=2),\n",
    "      self._make_layer(128, 2, stride=2),\n",
    "      nn.AdaptiveAvgPool2d((1, 1)),\n",
    "      nn.Flatten(start_dim=1),\n",
    "      nn.Linear(128, num_classes)\n",
    "  )\n",
    "    self._initialize_weights()\n",
    "\n",
    "  def _make_layer(self, out_channels, num_blocks, stride):\n",
    "    strides = [stride] + [1] * (num_blocks - 1)\n",
    "    layers = []\n",
    "    for stride in strides:\n",
    "      layers.append(BasicBlock(self.in_channels, out_channels, stride))\n",
    "      self.in_channels = out_channels\n",
    "    return nn.Sequential(*layers)\n",
    "\n",
    "  def forward(self, x):\n",
    "    return self.model(x)\n",
    "\n",
    "  def _initialize_weights(self):\n",
    "    for m in self.modules():\n",
    "      if isinstance(m, nn.Conv2d):\n",
    "        nn.init.kaiming_normal_(m.weight, mode='fan_out', nonlinearity='relu')\n",
    "        if m.bias is not None:\n",
    "          nn.init.constant_(m.bias, 0)\n",
    "      elif isinstance(m, nn.BatchNorm2d):\n",
    "        nn.init.constant_(m.weight, 1)\n",
    "        nn.init.constant_(m.bias, 0)\n",
    "      elif isinstance(m, nn.Linear):\n",
    "        nn.init.kaiming_normal_(m.weight, mode='fan_out', nonlinearity='relu')\n",
    "        nn.init.constant_(m.bias, 0)"
   ]
  },
  {
   "cell_type": "markdown",
   "id": "220b0887-667e-44af-9561-906d7d26c0a1",
   "metadata": {},
   "source": [
    "### LeNet"
   ]
  },
  {
   "cell_type": "code",
   "execution_count": 56,
   "id": "e6228326-c3db-48c9-9324-fe370b53a612",
   "metadata": {},
   "outputs": [],
   "source": [
    "class LeNet(nn.Module):\n",
    "    def __init__(self):\n",
    "        super(LeNet, self).__init__()\n",
    "        self.conv1 = nn.Sequential(nn.Conv2d(in_channels=1, out_channels=6, kernel_size=5), nn.ReLU(), nn.MaxPool2d(stride=1, kernel_size=(2*2)))\n",
    "        self.conv2 = nn.Sequential(nn.Conv2d(6, 16, kernel_size=5), nn.ReLU(),nn.MaxPool2d(stride=1, kernel_size=(2*2)))\n",
    "        self.fc1 = nn.Sequential(nn.Flatten(),nn.Linear(3136, 120), nn.ReLU())\n",
    "        self.fc2 = nn.Sequential(nn.Linear(120, 84), nn.ReLU())\n",
    "        self.fc3 = nn.Linear(84,10)\n",
    "    def forward(self, x):\n",
    "        x = self.conv1(x)\n",
    "        x = self.conv2(x)\n",
    "        x = self.fc1(x)\n",
    "        x = self.fc2(x)\n",
    "        x = self.fc3(x)\n",
    "\n",
    "        return x"
   ]
  },
  {
   "cell_type": "markdown",
   "id": "d604e439-4556-4801-9ca8-c05a3b8d3a24",
   "metadata": {
    "tags": []
   },
   "source": [
    "### Подгрузка модели"
   ]
  },
  {
   "cell_type": "code",
   "execution_count": 52,
   "id": "3cff3a65-cbb1-49a0-a2bc-7fc35af9edb3",
   "metadata": {},
   "outputs": [],
   "source": [
    "class NNNetEnum(Enum):\n",
    "    ens_net = 1\n",
    "    alex_net = 2\n",
    "    vgg8 = 3\n",
    "    res_net = 4\n",
    "    le_net = 5"
   ]
  },
  {
   "cell_type": "code",
   "execution_count": 53,
   "id": "06c20311-0f3b-4697-9c43-d20de7ca1a9e",
   "metadata": {},
   "outputs": [],
   "source": [
    "def get_nn_model(nn_model: NNNetEnum):\n",
    "    model_class = None\n",
    "    if nn_model == NNNetEnum.ens_net:\n",
    "        model_class =  EnsNet\n",
    "    if nn_model == NNNetEnum.alex_net:\n",
    "        model_class =  AlexNet\n",
    "    if nn_model == NNNetEnum.vgg8:\n",
    "        model_class =  VGG8\n",
    "    if nn_model == NNNetEnum.res_net:\n",
    "        model_class =  ResNet\n",
    "    if nn_model == NNNetEnum.le_net:\n",
    "        model_class =  LeNet\n",
    "\n",
    "    if model_class is None:\n",
    "        raise Exception(f'The passed architecture {nn_model} was not found. Check enum conditions.')\n",
    "    \n",
    "    return model_class().to(DEVICE)"
   ]
  },
  {
   "cell_type": "markdown",
   "id": "7fa3651a-6147-43e3-af9c-e24c78a6b10a",
   "metadata": {
    "tags": []
   },
   "source": [
    "## Тесты архитектур"
   ]
  },
  {
   "cell_type": "code",
   "execution_count": 54,
   "id": "faf77646-9942-4650-8151-c87183f8cc14",
   "metadata": {},
   "outputs": [],
   "source": [
    "simple_cnn = get_nn_model(NNNetEnum.le_net)"
   ]
  },
  {
   "cell_type": "code",
   "execution_count": 43,
   "id": "a75f4889-d99e-480c-bcd5-3ef0991de5c0",
   "metadata": {},
   "outputs": [],
   "source": [
    "epoch = 60\n",
    "batch_size = 64"
   ]
  },
  {
   "cell_type": "code",
   "execution_count": 44,
   "id": "cf6be65a-810b-4c91-a82f-262c7762cbc4",
   "metadata": {},
   "outputs": [
    {
     "name": "stderr",
     "output_type": "stream",
     "text": [
      "epoch:   0%|                                                                                    | 0/60 [00:00<?, ?it/s]"
     ]
    },
    {
     "name": "stdout",
     "output_type": "stream",
     "text": [
      "loss 0.21990460315098365\n"
     ]
    },
    {
     "name": "stderr",
     "output_type": "stream",
     "text": [
      "epoch:   2%|█▏                                                                        | 1/60 [01:05<1:04:16, 65.36s/it]"
     ]
    },
    {
     "name": "stdout",
     "output_type": "stream",
     "text": [
      "\n",
      "Epoch 001 train_loss: 0.2199     val_loss 0.0761 train_acc 0.9340 val_acc 0.9773\n",
      "loss 0.0710367583828047\n"
     ]
    },
    {
     "name": "stderr",
     "output_type": "stream",
     "text": [
      "epoch:   3%|██▍                                                                       | 2/60 [02:14<1:05:08, 67.38s/it]"
     ]
    },
    {
     "name": "stdout",
     "output_type": "stream",
     "text": [
      "\n",
      "Epoch 002 train_loss: 0.0710     val_loss 0.0549 train_acc 0.9777 val_acc 0.9827\n",
      "loss 0.05049088003424307\n"
     ]
    },
    {
     "name": "stderr",
     "output_type": "stream",
     "text": [
      "epoch:   5%|███▋                                                                      | 3/60 [03:22<1:04:19, 67.72s/it]"
     ]
    },
    {
     "name": "stdout",
     "output_type": "stream",
     "text": [
      "\n",
      "Epoch 003 train_loss: 0.0505     val_loss 0.0495 train_acc 0.9841 val_acc 0.9853\n",
      "loss 0.043869077266349144\n"
     ]
    },
    {
     "name": "stderr",
     "output_type": "stream",
     "text": [
      "epoch:   7%|████▉                                                                     | 4/60 [04:25<1:01:41, 66.10s/it]"
     ]
    },
    {
     "name": "stdout",
     "output_type": "stream",
     "text": [
      "\n",
      "Epoch 004 train_loss: 0.0439     val_loss 0.0739 train_acc 0.9856 val_acc 0.9792\n",
      "loss 0.03763047734112479\n"
     ]
    },
    {
     "name": "stderr",
     "output_type": "stream",
     "text": [
      "epoch:   8%|██████▏                                                                   | 5/60 [05:32<1:00:54, 66.44s/it]"
     ]
    },
    {
     "name": "stdout",
     "output_type": "stream",
     "text": [
      "\n",
      "Epoch 005 train_loss: 0.0376     val_loss 0.0808 train_acc 0.9881 val_acc 0.9725\n",
      "loss 0.03204124490594647\n"
     ]
    },
    {
     "name": "stderr",
     "output_type": "stream",
     "text": [
      "epoch:  10%|███████▌                                                                    | 6/60 [06:31<57:31, 63.91s/it]"
     ]
    },
    {
     "name": "stdout",
     "output_type": "stream",
     "text": [
      "\n",
      "Epoch 006 train_loss: 0.0320     val_loss 0.0502 train_acc 0.9900 val_acc 0.9848\n",
      "loss 0.02869292246255403\n"
     ]
    },
    {
     "name": "stderr",
     "output_type": "stream",
     "text": [
      "epoch:  12%|████████▊                                                                   | 7/60 [07:40<57:47, 65.43s/it]"
     ]
    },
    {
     "name": "stdout",
     "output_type": "stream",
     "text": [
      "\n",
      "Epoch 007 train_loss: 0.0287     val_loss 0.0413 train_acc 0.9905 val_acc 0.9881\n",
      "loss 0.023397630979365203\n"
     ]
    },
    {
     "name": "stderr",
     "output_type": "stream",
     "text": [
      "epoch:  13%|██████████▏                                                                 | 8/60 [08:46<56:45, 65.48s/it]"
     ]
    },
    {
     "name": "stdout",
     "output_type": "stream",
     "text": [
      "\n",
      "Epoch 008 train_loss: 0.0234     val_loss 0.0456 train_acc 0.9928 val_acc 0.9868\n",
      "loss 0.02213571377908617\n"
     ]
    },
    {
     "name": "stderr",
     "output_type": "stream",
     "text": [
      "epoch:  15%|███████████▍                                                                | 9/60 [09:52<56:01, 65.92s/it]"
     ]
    },
    {
     "name": "stdout",
     "output_type": "stream",
     "text": [
      "\n",
      "Epoch 009 train_loss: 0.0221     val_loss 0.0443 train_acc 0.9927 val_acc 0.9886\n",
      "loss 0.02163853013506741\n"
     ]
    },
    {
     "name": "stderr",
     "output_type": "stream",
     "text": [
      "epoch:  17%|████████████▌                                                              | 10/60 [10:55<54:07, 64.95s/it]"
     ]
    },
    {
     "name": "stdout",
     "output_type": "stream",
     "text": [
      "\n",
      "Epoch 010 train_loss: 0.0216     val_loss 0.0448 train_acc 0.9929 val_acc 0.9874\n",
      "loss 0.018008934666989565\n"
     ]
    },
    {
     "name": "stderr",
     "output_type": "stream",
     "text": [
      "epoch:  18%|█████████████▋                                                             | 11/60 [11:55<51:48, 63.44s/it]"
     ]
    },
    {
     "name": "stdout",
     "output_type": "stream",
     "text": [
      "\n",
      "Epoch 011 train_loss: 0.0180     val_loss 0.0459 train_acc 0.9938 val_acc 0.9880\n",
      "loss 0.015114542911530103\n"
     ]
    },
    {
     "name": "stderr",
     "output_type": "stream",
     "text": [
      "epoch:  20%|███████████████                                                            | 12/60 [12:50<48:41, 60.87s/it]"
     ]
    },
    {
     "name": "stdout",
     "output_type": "stream",
     "text": [
      "\n",
      "Epoch 012 train_loss: 0.0151     val_loss 0.0568 train_acc 0.9950 val_acc 0.9864\n",
      "loss 0.014203860939019554\n"
     ]
    },
    {
     "name": "stderr",
     "output_type": "stream",
     "text": [
      "epoch:  22%|████████████████▎                                                          | 13/60 [13:45<46:19, 59.13s/it]"
     ]
    },
    {
     "name": "stdout",
     "output_type": "stream",
     "text": [
      "\n",
      "Epoch 013 train_loss: 0.0142     val_loss 0.0575 train_acc 0.9950 val_acc 0.9863\n",
      "loss 0.011570332506948035\n"
     ]
    },
    {
     "name": "stderr",
     "output_type": "stream",
     "text": [
      "epoch:  23%|█████████████████▌                                                         | 14/60 [14:47<45:53, 59.87s/it]"
     ]
    },
    {
     "name": "stdout",
     "output_type": "stream",
     "text": [
      "\n",
      "Epoch 014 train_loss: 0.0116     val_loss 0.0614 train_acc 0.9965 val_acc 0.9850\n",
      "loss 0.014890582790891737\n"
     ]
    },
    {
     "name": "stderr",
     "output_type": "stream",
     "text": [
      "epoch:  25%|██████████████████▊                                                        | 15/60 [15:55<46:50, 62.46s/it]"
     ]
    },
    {
     "name": "stdout",
     "output_type": "stream",
     "text": [
      "\n",
      "Epoch 015 train_loss: 0.0149     val_loss 0.0537 train_acc 0.9952 val_acc 0.9871\n",
      "loss 0.011375834576421766\n"
     ]
    },
    {
     "name": "stderr",
     "output_type": "stream",
     "text": [
      "epoch:  27%|████████████████████                                                       | 16/60 [17:04<47:04, 64.19s/it]"
     ]
    },
    {
     "name": "stdout",
     "output_type": "stream",
     "text": [
      "\n",
      "Epoch 016 train_loss: 0.0114     val_loss 0.0594 train_acc 0.9961 val_acc 0.9863\n",
      "loss 0.010802609825714172\n"
     ]
    },
    {
     "name": "stderr",
     "output_type": "stream",
     "text": [
      "epoch:  28%|█████████████████████▎                                                     | 17/60 [18:09<46:13, 64.50s/it]"
     ]
    },
    {
     "name": "stdout",
     "output_type": "stream",
     "text": [
      "\n",
      "Epoch 017 train_loss: 0.0108     val_loss 0.0639 train_acc 0.9964 val_acc 0.9854\n",
      "loss 0.009938011614979283\n"
     ]
    },
    {
     "name": "stderr",
     "output_type": "stream",
     "text": [
      "epoch:  30%|██████████████████████▌                                                    | 18/60 [19:15<45:25, 64.89s/it]"
     ]
    },
    {
     "name": "stdout",
     "output_type": "stream",
     "text": [
      "\n",
      "Epoch 018 train_loss: 0.0099     val_loss 0.0793 train_acc 0.9969 val_acc 0.9858\n",
      "loss 0.010248063418016803\n"
     ]
    },
    {
     "name": "stderr",
     "output_type": "stream",
     "text": [
      "epoch:  32%|███████████████████████▊                                                   | 19/60 [20:19<44:16, 64.79s/it]"
     ]
    },
    {
     "name": "stdout",
     "output_type": "stream",
     "text": [
      "\n",
      "Epoch 019 train_loss: 0.0102     val_loss 0.0546 train_acc 0.9967 val_acc 0.9885\n",
      "loss 0.009776806248681926\n"
     ]
    },
    {
     "name": "stderr",
     "output_type": "stream",
     "text": [
      "epoch:  33%|█████████████████████████                                                  | 20/60 [21:25<43:21, 65.05s/it]"
     ]
    },
    {
     "name": "stdout",
     "output_type": "stream",
     "text": [
      "\n",
      "Epoch 020 train_loss: 0.0098     val_loss 0.0590 train_acc 0.9970 val_acc 0.9872\n",
      "loss 0.007167781352617719\n"
     ]
    },
    {
     "name": "stderr",
     "output_type": "stream",
     "text": [
      "epoch:  35%|██████████████████████████▎                                                | 21/60 [22:20<40:23, 62.15s/it]"
     ]
    },
    {
     "name": "stdout",
     "output_type": "stream",
     "text": [
      "\n",
      "Epoch 021 train_loss: 0.0072     val_loss 0.0533 train_acc 0.9976 val_acc 0.9899\n",
      "loss 0.005952994586214876\n"
     ]
    },
    {
     "name": "stderr",
     "output_type": "stream",
     "text": [
      "epoch:  37%|███████████████████████████▍                                               | 22/60 [23:33<41:17, 65.20s/it]"
     ]
    },
    {
     "name": "stdout",
     "output_type": "stream",
     "text": [
      "\n",
      "Epoch 022 train_loss: 0.0060     val_loss 0.0944 train_acc 0.9981 val_acc 0.9826\n",
      "loss 0.008702484419919984\n"
     ]
    },
    {
     "name": "stderr",
     "output_type": "stream",
     "text": [
      "epoch:  38%|████████████████████████████▊                                              | 23/60 [24:43<41:05, 66.62s/it]"
     ]
    },
    {
     "name": "stdout",
     "output_type": "stream",
     "text": [
      "\n",
      "Epoch 023 train_loss: 0.0087     val_loss 0.0603 train_acc 0.9971 val_acc 0.9884\n",
      "loss 0.008923241000949968\n"
     ]
    },
    {
     "name": "stderr",
     "output_type": "stream",
     "text": [
      "epoch:  40%|██████████████████████████████                                             | 24/60 [25:48<39:48, 66.36s/it]"
     ]
    },
    {
     "name": "stdout",
     "output_type": "stream",
     "text": [
      "\n",
      "Epoch 024 train_loss: 0.0089     val_loss 0.0531 train_acc 0.9971 val_acc 0.9889\n",
      "loss 0.005666414709581507\n"
     ]
    },
    {
     "name": "stderr",
     "output_type": "stream",
     "text": [
      "epoch:  42%|███████████████████████████████▎                                           | 25/60 [26:54<38:31, 66.05s/it]"
     ]
    },
    {
     "name": "stdout",
     "output_type": "stream",
     "text": [
      "\n",
      "Epoch 025 train_loss: 0.0057     val_loss 0.0813 train_acc 0.9977 val_acc 0.9863\n",
      "loss 0.0072440648330701265\n"
     ]
    },
    {
     "name": "stderr",
     "output_type": "stream",
     "text": [
      "epoch:  43%|████████████████████████████████▌                                          | 26/60 [28:00<37:28, 66.14s/it]"
     ]
    },
    {
     "name": "stdout",
     "output_type": "stream",
     "text": [
      "\n",
      "Epoch 026 train_loss: 0.0072     val_loss 0.0765 train_acc 0.9976 val_acc 0.9861\n",
      "loss 0.0101859328125693\n"
     ]
    },
    {
     "name": "stderr",
     "output_type": "stream",
     "text": [
      "epoch:  45%|█████████████████████████████████▊                                         | 27/60 [29:05<36:15, 65.91s/it]"
     ]
    },
    {
     "name": "stdout",
     "output_type": "stream",
     "text": [
      "\n",
      "Epoch 027 train_loss: 0.0102     val_loss 0.0629 train_acc 0.9970 val_acc 0.9880\n",
      "loss 0.003179844522016007\n"
     ]
    },
    {
     "name": "stderr",
     "output_type": "stream",
     "text": [
      "epoch:  47%|███████████████████████████████████                                        | 28/60 [30:07<34:33, 64.79s/it]"
     ]
    },
    {
     "name": "stdout",
     "output_type": "stream",
     "text": [
      "\n",
      "Epoch 028 train_loss: 0.0032     val_loss 0.0678 train_acc 0.9988 val_acc 0.9886\n",
      "loss 0.006261966395788041\n"
     ]
    },
    {
     "name": "stderr",
     "output_type": "stream",
     "text": [
      "epoch:  48%|████████████████████████████████████▎                                      | 29/60 [31:03<32:01, 61.98s/it]"
     ]
    },
    {
     "name": "stdout",
     "output_type": "stream",
     "text": [
      "\n",
      "Epoch 029 train_loss: 0.0063     val_loss 0.0589 train_acc 0.9981 val_acc 0.9900\n",
      "loss 0.009147138624513522\n"
     ]
    },
    {
     "name": "stderr",
     "output_type": "stream",
     "text": [
      "epoch:  50%|█████████████████████████████████████▌                                     | 30/60 [31:56<29:42, 59.43s/it]"
     ]
    },
    {
     "name": "stdout",
     "output_type": "stream",
     "text": [
      "\n",
      "Epoch 030 train_loss: 0.0091     val_loss 0.0661 train_acc 0.9971 val_acc 0.9874\n",
      "loss 0.005217523182390512\n"
     ]
    },
    {
     "name": "stderr",
     "output_type": "stream",
     "text": [
      "epoch:  52%|██████████████████████████████████████▊                                    | 31/60 [32:49<27:42, 57.32s/it]"
     ]
    },
    {
     "name": "stdout",
     "output_type": "stream",
     "text": [
      "\n",
      "Epoch 031 train_loss: 0.0052     val_loss 0.0656 train_acc 0.9985 val_acc 0.9882\n",
      "loss 0.0073821170435451125\n"
     ]
    },
    {
     "name": "stderr",
     "output_type": "stream",
     "text": [
      "epoch:  53%|████████████████████████████████████████                                   | 32/60 [33:42<26:13, 56.20s/it]"
     ]
    },
    {
     "name": "stdout",
     "output_type": "stream",
     "text": [
      "\n",
      "Epoch 032 train_loss: 0.0074     val_loss 0.0679 train_acc 0.9978 val_acc 0.9894\n",
      "loss 0.005979710938697896\n"
     ]
    },
    {
     "name": "stderr",
     "output_type": "stream",
     "text": [
      "epoch:  55%|█████████████████████████████████████████▎                                 | 33/60 [34:35<24:47, 55.08s/it]"
     ]
    },
    {
     "name": "stdout",
     "output_type": "stream",
     "text": [
      "\n",
      "Epoch 033 train_loss: 0.0060     val_loss 0.0590 train_acc 0.9982 val_acc 0.9896\n",
      "loss 0.0010344761424133466\n"
     ]
    },
    {
     "name": "stderr",
     "output_type": "stream",
     "text": [
      "epoch:  57%|██████████████████████████████████████████▌                                | 34/60 [35:27<23:31, 54.30s/it]"
     ]
    },
    {
     "name": "stdout",
     "output_type": "stream",
     "text": [
      "\n",
      "Epoch 034 train_loss: 0.0010     val_loss 0.0772 train_acc 0.9997 val_acc 0.9879\n",
      "loss 0.010868727685899249\n"
     ]
    },
    {
     "name": "stderr",
     "output_type": "stream",
     "text": [
      "epoch:  58%|███████████████████████████████████████████▊                               | 35/60 [36:19<22:19, 53.59s/it]"
     ]
    },
    {
     "name": "stdout",
     "output_type": "stream",
     "text": [
      "\n",
      "Epoch 035 train_loss: 0.0109     val_loss 0.0687 train_acc 0.9969 val_acc 0.9893\n",
      "loss 0.004830151690168996\n"
     ]
    },
    {
     "name": "stderr",
     "output_type": "stream",
     "text": [
      "epoch:  60%|█████████████████████████████████████████████                              | 36/60 [37:13<21:27, 53.65s/it]"
     ]
    },
    {
     "name": "stdout",
     "output_type": "stream",
     "text": [
      "\n",
      "Epoch 036 train_loss: 0.0048     val_loss 0.0689 train_acc 0.9986 val_acc 0.9902\n",
      "loss 0.005696796277108619\n"
     ]
    },
    {
     "name": "stderr",
     "output_type": "stream",
     "text": [
      "epoch:  62%|██████████████████████████████████████████████▎                            | 37/60 [38:11<21:04, 54.97s/it]"
     ]
    },
    {
     "name": "stdout",
     "output_type": "stream",
     "text": [
      "\n",
      "Epoch 037 train_loss: 0.0057     val_loss 0.0626 train_acc 0.9982 val_acc 0.9890\n",
      "loss 0.005793349644045856\n"
     ]
    },
    {
     "name": "stderr",
     "output_type": "stream",
     "text": [
      "epoch:  63%|███████████████████████████████████████████████▌                           | 38/60 [39:10<20:37, 56.25s/it]"
     ]
    },
    {
     "name": "stdout",
     "output_type": "stream",
     "text": [
      "\n",
      "Epoch 038 train_loss: 0.0058     val_loss 0.0712 train_acc 0.9983 val_acc 0.9878\n",
      "loss 0.004264620955700186\n"
     ]
    },
    {
     "name": "stderr",
     "output_type": "stream",
     "text": [
      "epoch:  65%|████████████████████████████████████████████████▊                          | 39/60 [40:18<20:50, 59.55s/it]"
     ]
    },
    {
     "name": "stdout",
     "output_type": "stream",
     "text": [
      "\n",
      "Epoch 039 train_loss: 0.0043     val_loss 0.0711 train_acc 0.9986 val_acc 0.9885\n",
      "loss 0.007746650693312938\n"
     ]
    },
    {
     "name": "stderr",
     "output_type": "stream",
     "text": [
      "epoch:  67%|██████████████████████████████████████████████████                         | 40/60 [41:49<23:00, 69.01s/it]"
     ]
    },
    {
     "name": "stdout",
     "output_type": "stream",
     "text": [
      "\n",
      "Epoch 040 train_loss: 0.0077     val_loss 0.0847 train_acc 0.9977 val_acc 0.9882\n",
      "loss 0.003943476461833242\n"
     ]
    },
    {
     "name": "stderr",
     "output_type": "stream",
     "text": [
      "epoch:  68%|███████████████████████████████████████████████████▎                       | 41/60 [43:18<23:44, 74.98s/it]"
     ]
    },
    {
     "name": "stdout",
     "output_type": "stream",
     "text": [
      "\n",
      "Epoch 041 train_loss: 0.0039     val_loss 0.0715 train_acc 0.9986 val_acc 0.9892\n",
      "loss 0.0042159252539907995\n"
     ]
    },
    {
     "name": "stderr",
     "output_type": "stream",
     "text": [
      "epoch:  70%|████████████████████████████████████████████████████▌                      | 42/60 [45:03<25:15, 84.20s/it]"
     ]
    },
    {
     "name": "stdout",
     "output_type": "stream",
     "text": [
      "\n",
      "Epoch 042 train_loss: 0.0042     val_loss 0.0643 train_acc 0.9989 val_acc 0.9906\n",
      "loss 0.006059099125984586\n"
     ]
    },
    {
     "name": "stderr",
     "output_type": "stream",
     "text": [
      "epoch:  72%|█████████████████████████████████████████████████████▊                     | 43/60 [46:12<22:32, 79.54s/it]"
     ]
    },
    {
     "name": "stdout",
     "output_type": "stream",
     "text": [
      "\n",
      "Epoch 043 train_loss: 0.0061     val_loss 0.0732 train_acc 0.9981 val_acc 0.9897\n",
      "loss 0.006254938559433964\n"
     ]
    },
    {
     "name": "stderr",
     "output_type": "stream",
     "text": [
      "epoch:  73%|██████████████████████████████████████████████████████▉                    | 44/60 [47:18<20:06, 75.43s/it]"
     ]
    },
    {
     "name": "stdout",
     "output_type": "stream",
     "text": [
      "\n",
      "Epoch 044 train_loss: 0.0063     val_loss 0.0836 train_acc 0.9981 val_acc 0.9876\n",
      "loss 0.004809679330563012\n"
     ]
    },
    {
     "name": "stderr",
     "output_type": "stream",
     "text": [
      "epoch:  75%|████████████████████████████████████████████████████████▎                  | 45/60 [48:24<18:10, 72.71s/it]"
     ]
    },
    {
     "name": "stdout",
     "output_type": "stream",
     "text": [
      "\n",
      "Epoch 045 train_loss: 0.0048     val_loss 0.0772 train_acc 0.9984 val_acc 0.9889\n",
      "loss 0.002825104921025399\n"
     ]
    },
    {
     "name": "stderr",
     "output_type": "stream",
     "text": [
      "epoch:  77%|█████████████████████████████████████████████████████████▌                 | 46/60 [49:30<16:28, 70.63s/it]"
     ]
    },
    {
     "name": "stdout",
     "output_type": "stream",
     "text": [
      "\n",
      "Epoch 046 train_loss: 0.0028     val_loss 0.0717 train_acc 0.9992 val_acc 0.9891\n",
      "loss 0.0012931774411045105\n"
     ]
    },
    {
     "name": "stderr",
     "output_type": "stream",
     "text": [
      "epoch:  78%|██████████████████████████████████████████████████████████▊                | 47/60 [50:34<14:53, 68.74s/it]"
     ]
    },
    {
     "name": "stdout",
     "output_type": "stream",
     "text": [
      "\n",
      "Epoch 047 train_loss: 0.0013     val_loss 0.0877 train_acc 0.9996 val_acc 0.9891\n",
      "loss 0.010270042773404486\n"
     ]
    },
    {
     "name": "stderr",
     "output_type": "stream",
     "text": [
      "epoch:  80%|████████████████████████████████████████████████████████████               | 48/60 [51:36<13:20, 66.71s/it]"
     ]
    },
    {
     "name": "stdout",
     "output_type": "stream",
     "text": [
      "\n",
      "Epoch 048 train_loss: 0.0103     val_loss 0.0683 train_acc 0.9970 val_acc 0.9897\n",
      "loss 0.0005953562917293947\n"
     ]
    },
    {
     "name": "stderr",
     "output_type": "stream",
     "text": [
      "epoch:  82%|█████████████████████████████████████████████████████████████▎             | 49/60 [52:32<11:38, 63.48s/it]"
     ]
    },
    {
     "name": "stdout",
     "output_type": "stream",
     "text": [
      "\n",
      "Epoch 049 train_loss: 0.0006     val_loss 0.0631 train_acc 0.9999 val_acc 0.9906\n",
      "loss 0.008524439816776091\n"
     ]
    },
    {
     "name": "stderr",
     "output_type": "stream",
     "text": [
      "epoch:  83%|██████████████████████████████████████████████████████████████▌            | 50/60 [53:45<11:02, 66.21s/it]"
     ]
    },
    {
     "name": "stdout",
     "output_type": "stream",
     "text": [
      "\n",
      "Epoch 050 train_loss: 0.0085     val_loss 0.0892 train_acc 0.9979 val_acc 0.9868\n",
      "loss 0.004320797024098971\n"
     ]
    },
    {
     "name": "stderr",
     "output_type": "stream",
     "text": [
      "epoch:  85%|███████████████████████████████████████████████████████████████▊           | 51/60 [54:50<09:52, 65.85s/it]"
     ]
    },
    {
     "name": "stdout",
     "output_type": "stream",
     "text": [
      "\n",
      "Epoch 051 train_loss: 0.0043     val_loss 0.0744 train_acc 0.9986 val_acc 0.9896\n",
      "loss 0.0007031518127492669\n"
     ]
    },
    {
     "name": "stderr",
     "output_type": "stream",
     "text": [
      "epoch:  87%|█████████████████████████████████████████████████████████████████          | 52/60 [55:56<08:48, 66.00s/it]"
     ]
    },
    {
     "name": "stdout",
     "output_type": "stream",
     "text": [
      "\n",
      "Epoch 052 train_loss: 0.0007     val_loss 0.0678 train_acc 0.9998 val_acc 0.9910\n",
      "loss 3.938971791153426e-05\n"
     ]
    },
    {
     "name": "stderr",
     "output_type": "stream",
     "text": [
      "epoch:  88%|██████████████████████████████████████████████████████████████████▎        | 53/60 [57:06<07:50, 67.23s/it]"
     ]
    },
    {
     "name": "stdout",
     "output_type": "stream",
     "text": [
      "\n",
      "Epoch 053 train_loss: 0.0000     val_loss 0.0684 train_acc 1.0000 val_acc 0.9910\n",
      "loss 1.1614684746618901e-05\n"
     ]
    },
    {
     "name": "stderr",
     "output_type": "stream",
     "text": [
      "epoch:  90%|███████████████████████████████████████████████████████████████████▌       | 54/60 [58:10<06:36, 66.09s/it]"
     ]
    },
    {
     "name": "stdout",
     "output_type": "stream",
     "text": [
      "\n",
      "Epoch 054 train_loss: 0.0000     val_loss 0.0693 train_acc 1.0000 val_acc 0.9910\n",
      "loss 7.639865445384271e-06\n"
     ]
    },
    {
     "name": "stderr",
     "output_type": "stream",
     "text": [
      "epoch:  92%|████████████████████████████████████████████████████████████████████▊      | 55/60 [59:16<05:31, 66.23s/it]"
     ]
    },
    {
     "name": "stdout",
     "output_type": "stream",
     "text": [
      "\n",
      "Epoch 055 train_loss: 0.0000     val_loss 0.0704 train_acc 1.0000 val_acc 0.9909\n",
      "loss 5.406740215488407e-06\n"
     ]
    },
    {
     "name": "stderr",
     "output_type": "stream",
     "text": [
      "epoch:  93%|████████████████████████████████████████████████████████████████████▏    | 56/60 [1:00:16<04:17, 64.40s/it]"
     ]
    },
    {
     "name": "stdout",
     "output_type": "stream",
     "text": [
      "\n",
      "Epoch 056 train_loss: 0.0000     val_loss 0.0714 train_acc 1.0000 val_acc 0.9909\n",
      "loss 3.9181492506720575e-06\n"
     ]
    },
    {
     "name": "stderr",
     "output_type": "stream",
     "text": [
      "epoch:  95%|█████████████████████████████████████████████████████████████████████▎   | 57/60 [1:01:35<03:26, 68.78s/it]"
     ]
    },
    {
     "name": "stdout",
     "output_type": "stream",
     "text": [
      "\n",
      "Epoch 057 train_loss: 0.0000     val_loss 0.0724 train_acc 1.0000 val_acc 0.9910\n",
      "loss 2.782438415675307e-06\n"
     ]
    },
    {
     "name": "stderr",
     "output_type": "stream",
     "text": [
      "epoch:  97%|██████████████████████████████████████████████████████████████████████▌  | 58/60 [1:02:44<02:17, 68.72s/it]"
     ]
    },
    {
     "name": "stdout",
     "output_type": "stream",
     "text": [
      "\n",
      "Epoch 058 train_loss: 0.0000     val_loss 0.0738 train_acc 1.0000 val_acc 0.9910\n",
      "loss 2.030973524506615e-06\n"
     ]
    },
    {
     "name": "stderr",
     "output_type": "stream",
     "text": [
      "epoch:  98%|███████████████████████████████████████████████████████████████████████▊ | 59/60 [1:03:53<01:08, 68.90s/it]"
     ]
    },
    {
     "name": "stdout",
     "output_type": "stream",
     "text": [
      "\n",
      "Epoch 059 train_loss: 0.0000     val_loss 0.0751 train_acc 1.0000 val_acc 0.9910\n",
      "loss 1.3680587133486632e-06\n"
     ]
    },
    {
     "name": "stderr",
     "output_type": "stream",
     "text": [
      "epoch: 100%|█████████████████████████████████████████████████████████████████████████| 60/60 [1:05:02<00:00, 65.05s/it]\n"
     ]
    },
    {
     "name": "stdout",
     "output_type": "stream",
     "text": [
      "\n",
      "Epoch 060 train_loss: 0.0000     val_loss 0.0770 train_acc 1.0000 val_acc 0.9910\n"
     ]
    }
   ],
   "source": [
    "with Timer() as train_timer:\n",
    "    history = train(train_dataset, val_dataset, model=simple_cnn, epochs=epoch, batch_size=batch_size)"
   ]
  },
  {
   "cell_type": "code",
   "execution_count": 45,
   "id": "5ef5fa31-ed9c-4a06-8d33-27bbbea59887",
   "metadata": {},
   "outputs": [],
   "source": [
    "test_img = [test_dataset[i][0].unsqueeze(0) for i in range(len(test_dataset))]\n",
    "\n",
    "with Timer() as test_timer:\n",
    "    test_pred = predict(simple_cnn, test_img)\n",
    "    y_pred = np.argmax(test_pred,-1)\n"
   ]
  },
  {
   "cell_type": "markdown",
   "id": "f5256aac-ef21-441c-a616-66ef1e642840",
   "metadata": {},
   "source": [
    "#### Accuracy по классам"
   ]
  },
  {
   "cell_type": "code",
   "execution_count": 47,
   "id": "3548ac11-3791-48dd-bb67-e0df8e6ecd10",
   "metadata": {},
   "outputs": [
    {
     "name": "stdout",
     "output_type": "stream",
     "text": [
      "ACCURACY [0.9959183673469387, 0.9982378854625551, 0.9941860465116279, 0.9930693069306931, 0.9928716904276986, 0.9910313901345291, 0.9843423799582464, 0.9941634241245136, 0.9917864476386037, 0.9821605550049554]\n"
     ]
    }
   ],
   "source": [
    "proba_ = predict(simple_cnn, DataLoader(test_dataset, batch_size=1, shuffle=False))\n",
    "predict_ = np.argmax(proba_, -1)\n",
    "actual_labels = [el[1] for el in test_dataset]\n",
    "\n",
    "matrix = confusion_matrix(actual_labels, predict_)\n",
    "ac_class = matrix.diagonal() / matrix.sum(axis=1)\n",
    "print('ACCURACY', list(ac_class))"
   ]
  },
  {
   "cell_type": "markdown",
   "id": "95019db1-6833-45ce-9f1a-60dbe12e9d07",
   "metadata": {},
   "source": [
    "#### Общий accuracy"
   ]
  },
  {
   "cell_type": "code",
   "execution_count": 48,
   "id": "48c66854-4529-4b40-99cf-1a6a60bf32b6",
   "metadata": {},
   "outputs": [
    {
     "name": "stdout",
     "output_type": "stream",
     "text": [
      "ACCURACY general: 0.9919 ACCURACY by classes: 0.9917767493540361\n"
     ]
    }
   ],
   "source": [
    "actual_labels =[test_dataset[i][1] for i in range(len(test_dataset))]\n",
    "\n",
    "ac = accuracy_score(actual_labels, y_pred)\n",
    "\n",
    "print(\"ACCURACY general:\", ac, 'ACCURACY by classes:', sum(ac_class) / 10)"
   ]
  },
  {
   "cell_type": "code",
   "execution_count": 49,
   "id": "e2678450-2c30-4b1d-bcc6-cdd8cc0c65b4",
   "metadata": {},
   "outputs": [
    {
     "data": {
      "text/plain": [
       "'VGG8'"
      ]
     },
     "execution_count": 49,
     "metadata": {},
     "output_type": "execute_result"
    }
   ],
   "source": [
    "simple_cnn.__class__.__name__"
   ]
  },
  {
   "cell_type": "markdown",
   "id": "b3d2081e-a3dd-4731-8f07-6afb7d6bf74f",
   "metadata": {},
   "source": [
    "## Логирование в MLFlow"
   ]
  },
  {
   "cell_type": "code",
   "execution_count": 50,
   "id": "472e4bb1-2147-4894-ae80-6eea5a653c6e",
   "metadata": {},
   "outputs": [
    {
     "name": "stderr",
     "output_type": "stream",
     "text": [
      "Registered model 'VGG8' already exists. Creating a new version of this model...\n",
      "Created version '25' of model 'VGG8'.\n"
     ]
    }
   ],
   "source": [
    "model_name = simple_cnn.__class__.__name__\n",
    "\n",
    "params = {\"epoch\": epoch, \"batch_size\": batch_size}\n",
    "\n",
    "for transform_el in get_transform().transforms:\n",
    "    val = re.sub(r'\\w+\\(', '', str(transform_el))[:-1]\n",
    "    \n",
    "    if not val:\n",
    "        continue\n",
    "\n",
    "    params[transform_el.__class__.__name__] = val\n",
    "\n",
    "\n",
    "mlflow.set_tracking_uri(uri=\"sqlite:///mlruns.db\")\n",
    "mlflow.set_experiment(model_name)\n",
    "\n",
    "\n",
    "train_set_array = dataset.data.numpy()\n",
    "with mlflow.start_run(run_name=model_name):\n",
    "    # Log the hyperparameters\n",
    "    mlflow.log_params(params)\n",
    "\n",
    "    # Log the metric\n",
    "    mlflow.log_metric(\"accuracy\", ac)\n",
    "    mlflow.log_metric(\"train_time_seconds\", train_timer.float_round())\n",
    "    mlflow.log_metric(\"pred_time_seconds\", test_timer.float_round())\n",
    "\n",
    "    for i in range(10):\n",
    "         mlflow.log_metric(f\"accuracy_{i}\", round(ac_class[i], 5))\n",
    "\n",
    "    # Log the model\n",
    "    model_info = mlflow.pytorch.log_model(\n",
    "        pytorch_model=simple_cnn,\n",
    "        artifact_path=model_name,\n",
    "        #signature = infer_signature(train_set_array, train_pred),\n",
    "        #input_example=train_set_array,\n",
    "        registered_model_name=model_name,\n",
    "    )"
   ]
  },
  {
   "cell_type": "code",
   "execution_count": null,
   "id": "f276db53-6f9a-485f-90ec-85a4db4e9d39",
   "metadata": {},
   "outputs": [],
   "source": []
  }
 ],
 "metadata": {
  "kernelspec": {
   "display_name": "Python 3 (ipykernel)",
   "language": "python",
   "name": "python3"
  },
  "language_info": {
   "codemirror_mode": {
    "name": "ipython",
    "version": 3
   },
   "file_extension": ".py",
   "mimetype": "text/x-python",
   "name": "python",
   "nbconvert_exporter": "python",
   "pygments_lexer": "ipython3",
   "version": "3.10.0"
  }
 },
 "nbformat": 4,
 "nbformat_minor": 5
}
