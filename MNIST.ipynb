{
 "cells": [
  {
   "cell_type": "markdown",
   "id": "c30abe23-374e-429a-af7c-be35f5427477",
   "metadata": {
    "tags": []
   },
   "source": [
    "## Импорты и настройка окружения"
   ]
  },
  {
   "cell_type": "code",
   "execution_count": 59,
   "id": "fd2f1551-63f7-43bb-b9a8-a6842aeee2b4",
   "metadata": {},
   "outputs": [],
   "source": [
    "import os\n",
    "import time\n",
    "import re\n",
    "from enum import Enum\n",
    "\n",
    "\n",
    "import numpy as np\n",
    "import pandas as pd\n",
    "import matplotlib.pyplot as plt\n",
    "from PIL import Image\n",
    "\n",
    "import mlflow\n",
    "from mlflow.models.signature import infer_signature\n",
    "\n",
    "from sklearn.metrics import accuracy_score, confusion_matrix\n",
    "\n",
    "import torch\n",
    "from torch import nn\n",
    "import torch.optim as optim\n",
    "from torch.optim import lr_scheduler\n",
    "from torch.utils.data import DataLoader, random_split\n",
    "\n",
    "import torchvision\n",
    "from torchvision import datasets, models, transforms\n",
    "\n",
    "from tqdm import tqdm, trange\n",
    "from pyngrok import ngrok\n",
    "\n"
   ]
  },
  {
   "cell_type": "code",
   "execution_count": 60,
   "id": "9cedb64d-48e8-4514-9a01-21cc8fa257c4",
   "metadata": {},
   "outputs": [
    {
     "data": {
      "text/plain": [
       "False"
      ]
     },
     "execution_count": 60,
     "metadata": {},
     "output_type": "execute_result"
    }
   ],
   "source": [
    "os.environ[\"GIT_PYTHON_REFRESH\"] = \"quiet\"\n",
    "import git\n",
    "torch.cuda.is_available()"
   ]
  },
  {
   "cell_type": "code",
   "execution_count": 61,
   "id": "66079542-14ea-4117-a94a-2259f6993506",
   "metadata": {},
   "outputs": [
    {
     "name": "stdout",
     "output_type": "stream",
     "text": [
      "env: MLFLOW_TRACKING_URI=sqlite:///mlruns.db\n"
     ]
    }
   ],
   "source": [
    "%env MLFLOW_TRACKING_URI=sqlite:///mlruns.db"
   ]
  },
  {
   "cell_type": "markdown",
   "id": "0f51e4d6-3253-40ff-b955-4f8e03b89bbf",
   "metadata": {},
   "source": [
    "## Трансформация"
   ]
  },
  {
   "cell_type": "code",
   "execution_count": 62,
   "id": "17974613-c19e-4193-9767-bde683d80577",
   "metadata": {},
   "outputs": [],
   "source": [
    "distortion_scale = 0.2"
   ]
  },
  {
   "cell_type": "code",
   "execution_count": 63,
   "id": "bcdac433-3f95-4a1d-831b-750dd60f0de8",
   "metadata": {},
   "outputs": [],
   "source": [
    "class ToCenter(torch.nn.Module):\n",
    "    def __init__(\n",
    "        self,\n",
    "        size: int = 28\n",
    "    ):\n",
    "        super(ToCenter, self).__init__()\n",
    "\n",
    "        assert size % 2 == 0, 'Size must be even'\n",
    "        \n",
    "        self._size = size\n",
    "        self._offset = size // 2\n",
    "\n",
    "    def forward(self, img):\n",
    "        \n",
    "        img_array = np.array(img)\n",
    "        rows = np.any(img_array > 0, axis=1)\n",
    "        cols = np.any(img_array > 0, axis=0) \n",
    "   \n",
    "        row_nonzero = np.where(rows)[0]\n",
    "        col_nonzero = np.where(cols)[0]\n",
    "\n",
    "        if row_nonzero.size: \n",
    "            top, bottom = row_nonzero[[0, -1]]\n",
    "        else:  # изображение полностью из нулей\n",
    "            top, bottom = 0, 0\n",
    "\n",
    "        if col_nonzero.size:\n",
    "            left, right = col_nonzero[[0, -1]]\n",
    "        else:\n",
    "            left, right = 0, 0\n",
    "\n",
    "        resize_img=img_array[top:bottom+1, left:right+1] / 255\n",
    "        result = np.zeros((28, 28))\n",
    "\n",
    "        row_start = int(self._offset - (bottom - top) / 2)\n",
    "        row_end = int(self._offset + (bottom - top) / 2 + 1)\n",
    "        col_start = int(self._offset  - (right - left) / 2)\n",
    "        col_end = int(self._offset + (right - left) / 2 + 1)\n",
    "        result[row_start: row_end, col_start:col_end] = resize_img\n",
    "        \n",
    "\n",
    "        img_result = Image.fromarray(result)\n",
    "        \n",
    "        return img_result\n",
    "   "
   ]
  },
  {
   "cell_type": "code",
   "execution_count": 65,
   "id": "f9903a00-dde8-48d3-b0c1-e06e1c70b2a8",
   "metadata": {},
   "outputs": [],
   "source": [
    "transform = transforms.Compose([\n",
    "    ToCenter(),\n",
    "    #transforms.RandomAffine(degrees=0, translate=(0.2, 0.2)),\n",
    "    #transforms. ElasticTransform(alpha=50.0 ),\n",
    "    #transforms.RandomRotation(degrees=10.0),\n",
    "    #transforms.GaussianBlur(kernel_size=(5, 9), sigma=(0.5, 1)),\n",
    "    transforms.RandomPerspective(p=0.9, distortion_scale=distortion_scale),\n",
    "    #transforms.RandomResizedCrop(size=(28, 28),scale=(0.7, 0.8), ratio=(0.7, 0.8)),\n",
    "    transforms.ToTensor()\n",
    "])"
   ]
  },
  {
   "cell_type": "code",
   "execution_count": 66,
   "id": "6a9c4d09-ee85-44b9-891c-4543a3dfcd16",
   "metadata": {},
   "outputs": [],
   "source": [
    "transform_test = transforms.Compose([\n",
    "    ToCenter(),\n",
    "    transforms.ToTensor()\n",
    "])"
   ]
  },
  {
   "cell_type": "code",
   "execution_count": 67,
   "id": "ade823ad-11e7-4ad1-bc3f-a1be9dee8b1f",
   "metadata": {},
   "outputs": [],
   "source": [
    "def get_transform():\n",
    "    try:\n",
    "        transform\n",
    "    except NameError:\n",
    "        return transforms.Compose([transforms.ToTensor()])\n",
    "    else:\n",
    "        return transform"
   ]
  },
  {
   "cell_type": "code",
   "execution_count": 68,
   "id": "adbadcc5-d995-403a-a434-b5152bed1c9a",
   "metadata": {},
   "outputs": [],
   "source": [
    "def imshow(inp, title=None, plt_ax=plt, default=False):\n",
    "\n",
    "    inp = inp.numpy().transpose((1, 2, 0))\n",
    "    mean = np.array([0.485, 0.456, 0.406])\n",
    "    std = np.array([0.229, 0.224, 0.225])\n",
    "    inp = std * inp + mean\n",
    "    inp = np.clip(inp, 0, 1)\n",
    "    \n",
    "    plt_ax.imshow(inp)\n",
    "    \n",
    "    if title is not None:\n",
    "        plt_ax.set_title(title)\n",
    "    plt_ax.grid(False)"
   ]
  },
  {
   "cell_type": "markdown",
   "id": "b603129f-63fd-4726-a0a4-a89ef73e8cc8",
   "metadata": {
    "tags": []
   },
   "source": [
    "## Погрузка и настройка данных"
   ]
  },
  {
   "cell_type": "code",
   "execution_count": 39,
   "id": "f1d652b2-71da-463e-8ab6-9a4c33f0f658",
   "metadata": {},
   "outputs": [],
   "source": [
    "generator1 = torch.Generator().manual_seed(42)\n",
    "\n",
    "dataset_train = datasets.MNIST(root='./data', train=True, transform=transforms.ToTensor(), download=True)\n",
    "dataset_train_augm = datasets.MNIST(root='./data', train=True, download=True, transform=transform)\n",
    "dataset = torch.utils.data.ConcatDataset(\n",
    "    [dataset_train, dataset_train_augm]\n",
    ")\n",
    "test_dataset = datasets.MNIST(root='./data', train=False, transform=transform_test)\n",
    "\n",
    "train_dataset, val_dataset = random_split(dataset, [0.8, 0.2], generator=generator1)\n",
    "\n",
    "DEVICE = torch.device(\"cpu\")"
   ]
  },
  {
   "cell_type": "code",
   "execution_count": 40,
   "id": "0a9a32bb-644a-41aa-baf0-1bff0c7ec9e7",
   "metadata": {},
   "outputs": [
    {
     "data": {
      "image/png": "[encoded data removed]",
      "text/plain": [
       "<Figure size 800x800 with 9 Axes>"
      ]
     },
     "metadata": {},
     "output_type": "display_data"
    }
   ],
   "source": [
    "fig, ax = plt.subplots(nrows=3, ncols=3,figsize=(8, 8), \\\n",
    "                        sharey=True, sharex=True)\n",
    "for fig_x in ax.flatten():\n",
    "    random_characters = int(np.random.uniform(0,1000))\n",
    "    im_val, label = dataset_train_augm[random_characters]\n",
    "    \n",
    "    imshow(im_val.data.cpu(), plt_ax=fig_x)"
   ]
  },
  {
   "cell_type": "markdown",
   "id": "17cddc84-f4e9-476c-98b1-cb9d868c91ed",
   "metadata": {
    "tags": []
   },
   "source": [
    "## Методы обучения, предсказания и оценки"
   ]
  },
  {
   "cell_type": "code",
   "execution_count": 41,
   "id": "f9a9846f-a2bb-4453-8a24-5becc302069e",
   "metadata": {},
   "outputs": [],
   "source": [
    "class Timer:\n",
    "    def __enter__(self):\n",
    "        self._start = time.time()\n",
    "        return self\n",
    "\n",
    "    def __exit__(self, type, value, traceback):\n",
    "        self._end = time.time()\n",
    "\n",
    "    def __str__(self):\n",
    "        num = self.float_round()\n",
    "        return f'{num} seconds'\n",
    "    \n",
    "    def float_round(self, cnt_numbers: int = 4) -> float:\n",
    "        return round(self._end - self._start, cnt_numbers)"
   ]
  },
  {
   "cell_type": "code",
   "execution_count": 42,
   "id": "93cd60b7-680a-4853-b137-35cdc5eb2647",
   "metadata": {},
   "outputs": [],
   "source": [
    "def fit_epoch(model, train_loader, criterion, optimizer):\n",
    "    running_loss = 0.0\n",
    "    running_corrects = 0\n",
    "    processed_data_count = 0\n",
    "\n",
    "    for inputs, labels in train_loader:\n",
    "        inputs = inputs.to(DEVICE)\n",
    "        labels = labels.to(DEVICE)\n",
    "\n",
    "        optimizer.zero_grad()\n",
    "\n",
    "        outputs = model(inputs)\n",
    "        preds = torch.argmax(outputs, 1)\n",
    "\n",
    "        loss = criterion(outputs, labels)\n",
    "        loss.backward()\n",
    "        optimizer.step()\n",
    "\n",
    "        running_loss += loss.item() * inputs.size(0)\n",
    "        running_corrects += torch.sum(preds == labels.data)\n",
    "        processed_data_count += inputs.size(0)\n",
    "\n",
    "    train_loss = running_loss / processed_data_count\n",
    "    train_acc = running_corrects.cpu().numpy() / processed_data_count\n",
    "\n",
    "    return train_loss, train_acc"
   ]
  },
  {
   "cell_type": "code",
   "execution_count": 43,
   "id": "1ca4036a-e9d6-495a-91bb-a252a6a1d057",
   "metadata": {},
   "outputs": [],
   "source": [
    "def eval_epoch(model, val_loader, criterion):\n",
    "    model.eval()\n",
    "\n",
    "    running_loss = 0.0\n",
    "    running_corrects = 0\n",
    "    processed_size = 0\n",
    "\n",
    "    for inputs, labels in val_loader:\n",
    "        inputs = inputs.to(DEVICE)\n",
    "        labels = labels.to(DEVICE)\n",
    "\n",
    "        with torch.set_grad_enabled(False):\n",
    "            outputs = model(inputs)\n",
    "            preds = torch.argmax(outputs, 1)\n",
    "\n",
    "            loss = criterion(outputs, labels)\n",
    "\n",
    "        running_loss += loss.item() * inputs.size(0)\n",
    "        running_corrects += torch.sum(preds == labels.data)\n",
    "        processed_size += inputs.size(0)\n",
    "\n",
    "    val_loss = running_loss / processed_size\n",
    "    val_acc = running_corrects.double() / processed_size\n",
    "\n",
    "    return val_loss, val_acc"
   ]
  },
  {
   "cell_type": "code",
   "execution_count": 44,
   "id": "78413ae3-c88a-4edb-8347-ac0ef3d6e13f",
   "metadata": {},
   "outputs": [],
   "source": [
    "def train(train_files, val_files, model, epochs: int, batch_size: int, num_samples: int):\n",
    "    train_sampler=torch.utils.data.RandomSampler(train_dataset, num_samples=num_samples)\n",
    "    \n",
    "    train_loader = DataLoader(train_dataset, batch_size=batch_size, sampler=train_sampler) # shuffle=True,sampler=train_sampler\n",
    "    val_loader = DataLoader(val_dataset, batch_size=batch_size, shuffle=False)\n",
    "\n",
    "    history = []\n",
    "    log_template = \"\\nEpoch {ep:03d} train_loss: {t_loss:0.4f} \\\n",
    "    val_loss {v_loss:0.4f} train_acc {t_acc:0.4f} val_acc {v_acc:0.4f}\"\n",
    "\n",
    "    with tqdm(desc=\"epoch\", total=epochs) as pbar_outer:\n",
    "        opt = torch.optim.Adam(model.parameters())\n",
    "        criterion = nn.CrossEntropyLoss()\n",
    "\n",
    "        for epoch in range(epochs):\n",
    "            train_loss, train_acc = fit_epoch(model, train_loader, criterion, opt)\n",
    "            print(\"loss\", train_loss)\n",
    "\n",
    "            val_loss, val_acc = eval_epoch(model, val_loader, criterion)\n",
    "            history.append((train_loss, train_acc, val_loss, val_acc))\n",
    "\n",
    "            pbar_outer.update(1)\n",
    "            tqdm.write(log_template.format(ep=epoch+1, t_loss=train_loss,\\\n",
    "                                           v_loss=val_loss, t_acc=train_acc, v_acc=val_acc))\n",
    "\n",
    "    return history"
   ]
  },
  {
   "cell_type": "code",
   "execution_count": 45,
   "id": "07c1a3ae-194e-4445-86bd-20652e9d8245",
   "metadata": {},
   "outputs": [],
   "source": [
    "def predict(model, test_loader):\n",
    "    with torch.no_grad():\n",
    "        logits = []\n",
    "\n",
    "        for inputs in test_loader:\n",
    "            if isinstance(inputs, tuple) or isinstance(inputs, list) and len(inputs) == 2:\n",
    "                # if the loader is really loader, then it returns tuple(X, y)\n",
    "                inputs = inputs[0]\n",
    "\n",
    "            inputs = inputs.to(DEVICE)\n",
    "            model.eval()\n",
    "            \n",
    "            outputs = model(inputs).cpu()\n",
    "            logits.append(outputs)\n",
    "\n",
    "    probs = nn.functional.softmax(torch.cat(logits), dim=-1).numpy()\n",
    "    return probs"
   ]
  },
  {
   "cell_type": "markdown",
   "id": "f107b74f-7c48-4fef-a739-b35f99901887",
   "metadata": {
    "tags": []
   },
   "source": [
    "## Архитектуры"
   ]
  },
  {
   "cell_type": "markdown",
   "id": "391d8d2a-d680-4a0c-b161-1e139a01f5bd",
   "metadata": {
    "jp-MarkdownHeadingCollapsed": true,
    "tags": []
   },
   "source": [
    "### Архитектура EnsNet"
   ]
  },
  {
   "cell_type": "code",
   "execution_count": 668,
   "id": "923137b6-b00e-44e7-8290-0bf0907c033d",
   "metadata": {},
   "outputs": [],
   "source": [
    "class EnsNet(nn.Module):\n",
    "  def __init__(self, num_classes=10):\n",
    "      super(EnsNet, self).__init__()\n",
    "      self.features = nn.Sequential(\n",
    "        nn.Conv2d(1, 64, kernel_size=3, padding=1),\n",
    "        nn.BatchNorm2d(64),\n",
    "        nn.ReLU(inplace=True),\n",
    "        nn.Dropout(0.35),\n",
    "        nn.Conv2d(64, 128, kernel_size=3),\n",
    "        nn.BatchNorm2d(128),\n",
    "        nn.ReLU(inplace=True),\n",
    "        nn.Dropout(0.35),\n",
    "        nn.Conv2d(128, 256, 3, padding=1),\n",
    "        nn.BatchNorm2d(256),\n",
    "        nn.ReLU(inplace=True),\n",
    "        nn.MaxPool2d(kernel_size=2, stride=2),\n",
    "        nn.Dropout(0.35),\n",
    "        nn.Conv2d(256, 512, kernel_size=3, padding=1),\n",
    "        nn.BatchNorm2d(512),\n",
    "        nn.ReLU(inplace=True),\n",
    "        nn.Dropout(0.35),\n",
    "        nn.Conv2d(512, 1024, kernel_size=3),\n",
    "        nn.BatchNorm2d(1024),\n",
    "        nn.ReLU(inplace=True),\n",
    "        nn.Dropout(0.35),\n",
    "        \n",
    "      )\n",
    "      self.avgpool = nn.AdaptiveAvgPool2d((3, 3))\n",
    "      self.classifier_major = nn.Linear(216, num_classes)\n",
    "      self.classifiers = nn.ModuleList([\n",
    "          nn.Linear(216, num_classes)\n",
    "          for _ in range(10)\n",
    "      ])\n",
    "      self.weights = nn.Parameter(torch.ones(11) / 11, requires_grad=True)\n",
    "\n",
    "  def forward(self, x):\n",
    "    x = self.features(x)\n",
    "    x = self.avgpool(x)\n",
    "    x = torch.flatten(x, 1)\n",
    "    x_major = self.classifier_major(x[:, :216])\n",
    "    x_rest = [classifier(x[:, 216 * i :216 * (i + 1) ]) for i, classifier in enumerate(self.classifiers)]\n",
    "    all_x = torch.stack([x_major] + x_rest, dim=1)\n",
    "    weighted_x = torch.sum(all_x * self.weights.view(1, -1, 1), dim=1)\n",
    "    return weighted_x"
   ]
  },
  {
   "cell_type": "markdown",
   "id": "187257fe-d0cc-49ba-a213-efdf0141979f",
   "metadata": {
    "jp-MarkdownHeadingCollapsed": true,
    "tags": []
   },
   "source": [
    "### AlexNet"
   ]
  },
  {
   "cell_type": "code",
   "execution_count": 40,
   "id": "9d44efba-c874-4eb1-af55-82dd52b94c11",
   "metadata": {},
   "outputs": [],
   "source": [
    "class AlexNet(nn.Module):   \n",
    "    def __init__(self, num=10):\n",
    "        super(AlexNet, self).__init__()\n",
    "        self.feature = nn.Sequential(\n",
    "            nn.Conv2d(1, 32, kernel_size=5, stride=1, padding=1),\n",
    "            nn.ReLU(inplace=True), \n",
    "            nn.Conv2d(32, 64, kernel_size=3, padding=1),\n",
    "            nn.ReLU(inplace=True),   \n",
    "            nn.MaxPool2d( kernel_size=2, stride=2),\n",
    "            nn.Conv2d(64, 96, kernel_size=3, padding=1),\n",
    "            nn.ReLU(inplace=True),                         \n",
    "            nn.Conv2d(96, 64, kernel_size=3, padding=1),\n",
    "            nn.ReLU(inplace=True),                         \n",
    "            nn.Conv2d(64, 32, kernel_size=3, padding=1),\n",
    "            nn.ReLU(inplace=True),\n",
    "            nn.MaxPool2d( kernel_size=2, stride=1),\n",
    "        )\n",
    "        self.classifier = nn.Sequential(\n",
    "            nn.Dropout(),\n",
    "            nn.Linear(32*12*12,2048),\n",
    "            nn.ReLU(inplace=True),\n",
    "            nn.Dropout(),\n",
    "            nn.Linear(2048,1024),\n",
    "            nn.ReLU(inplace=True),\n",
    "            nn.Linear(1024,num),\n",
    "         \n",
    "        )\n",
    "    \n",
    "    def forward(self, x):\n",
    "\n",
    "        x = self.feature(x)\n",
    "        x = x.view(-1,32*12*12)\n",
    "        x = self.classifier(x)\n",
    "        return x"
   ]
  },
  {
   "cell_type": "markdown",
   "id": "4cd33c83-96a5-4b54-9e7e-b6ffe99307f0",
   "metadata": {
    "jp-MarkdownHeadingCollapsed": true,
    "tags": []
   },
   "source": [
    "### VGG8"
   ]
  },
  {
   "cell_type": "code",
   "execution_count": 39,
   "id": "402d58c7-00d3-40a5-abb1-a206977c2b57",
   "metadata": {},
   "outputs": [],
   "source": [
    "class VGG8(nn.Module):\n",
    "    def __init__(self):\n",
    "        super(VGG8, self).__init__()\n",
    "        # 1 input image channel, 6 output channels, 3x3 square conv kernel\n",
    "        self.conv1 = nn.Sequential(nn.Conv2d(in_channels=1, out_channels=6,  kernel_size=(3,3)),  nn.ReLU(), nn.MaxPool2d(stride=1, kernel_size=(2*2)))\n",
    "\n",
    "        self.conv2 = nn.Sequential(nn.Conv2d(6, 16, kernel_size=(3,3)), nn.ReLU(), nn.MaxPool2d(stride=1, kernel_size=(2*2)))\n",
    "\n",
    "        self.conv3 = nn.Sequential(nn.Conv2d(16, 32, kernel_size=(3,3)), nn.ReLU(), nn.MaxPool2d(stride=1, kernel_size=(2*2)))\n",
    "\n",
    "        self.conv4 = nn.Sequential(nn.Conv2d(32, 64, kernel_size=(3,3)), nn.ReLU(), nn.MaxPool2d(stride=1, kernel_size=(2*2)))\n",
    "        self.conv5 = nn.Sequential(nn.Conv2d(64, 64, kernel_size=(3,3)), nn.ReLU(), nn.MaxPool2d(stride=1, kernel_size=(2*2)))\n",
    "        self.fc1 = nn.Sequential(nn.Flatten(),nn.Linear(5184, 64), nn.ReLU())\n",
    "        self.fc2 = nn.Sequential(nn.Linear(64, 128), nn.ReLU())\n",
    "        self.fc3 = nn.Linear(128,10)\n",
    "    def forward(self, x):\n",
    "        x = self.conv1(x)\n",
    "        x = self.conv2(x)\n",
    "        x = self.fc1(x)\n",
    "        x = self.fc2(x)\n",
    "        x = self.fc3(x)\n",
    "\n",
    "        return x"
   ]
  },
  {
   "cell_type": "markdown",
   "id": "015af038-0844-4025-8297-5b7e046aba51",
   "metadata": {
    "jp-MarkdownHeadingCollapsed": true,
    "tags": []
   },
   "source": [
    "### ResNet"
   ]
  },
  {
   "cell_type": "code",
   "execution_count": 17,
   "id": "c171d867-3ad5-450b-937c-4a0bffff1c38",
   "metadata": {},
   "outputs": [],
   "source": [
    "class BasicBlock(nn.Module):\n",
    "  def __init__(self, in_channels, out_channels, stride=1):\n",
    "    super(BasicBlock, self).__init__()\n",
    "    self.conv1 = nn.Conv2d(in_channels, out_channels, kernel_size=3, stride=stride, padding=1, bias=False)\n",
    "    self.bn1 = nn.BatchNorm2d(out_channels)\n",
    "    self.conv2 = nn.Conv2d(out_channels, out_channels, kernel_size=3, stride=1, padding=1, bias=False)\n",
    "    self.bn2 = nn.BatchNorm2d(out_channels)\n",
    "\n",
    "    self.shortcut = nn.Sequential()\n",
    "    if stride != 1 or in_channels != out_channels:\n",
    "      self.shortcut = nn.Sequential(\n",
    "        nn.Conv2d(in_channels, out_channels, kernel_size=1, stride=stride, bias=False),\n",
    "        nn.BatchNorm2d(out_channels)\n",
    "      )\n",
    "  def forward(self, x):\n",
    "    out = nn.ReLU(inplace=True)(self.bn1(self.conv1(x)))\n",
    "    out = self.bn2(self.conv2(out))\n",
    "    out += self.shortcut(x)\n",
    "    out = nn.ReLU(inplace=True)(out)\n",
    "    return out\n",
    "\n",
    "class ResNet(nn.Module):\n",
    "  def __init__(self, num_classes=10):\n",
    "    super(ResNet, self).__init__()\n",
    "    self.in_channels = 16\n",
    "\n",
    "    self.model = nn.Sequential(\n",
    "      nn.Conv2d(1, 16, kernel_size=3, stride=1, padding=1, bias=False),\n",
    "      nn.BatchNorm2d(16),\n",
    "      nn.ReLU(inplace=True),\n",
    "      nn.MaxPool2d(kernel_size=3, stride=2, padding=1),\n",
    "      self._make_layer(16, 2, stride=1),\n",
    "      self._make_layer(32, 2, stride=2),\n",
    "      self._make_layer(64, 2, stride=2),\n",
    "      self._make_layer(128, 2, stride=2),\n",
    "      nn.AdaptiveAvgPool2d((1, 1)),\n",
    "      nn.Flatten(start_dim=1),\n",
    "      nn.Linear(128, num_classes)\n",
    "  )\n",
    "    self._initialize_weights()\n",
    "\n",
    "  def _make_layer(self, out_channels, num_blocks, stride):\n",
    "    strides = [stride] + [1] * (num_blocks - 1)\n",
    "    layers = []\n",
    "    for stride in strides:\n",
    "      layers.append(BasicBlock(self.in_channels, out_channels, stride))\n",
    "      self.in_channels = out_channels\n",
    "    return nn.Sequential(*layers)\n",
    "\n",
    "  def forward(self, x):\n",
    "    return self.model(x)\n",
    "\n",
    "  def _initialize_weights(self):\n",
    "    for m in self.modules():\n",
    "      if isinstance(m, nn.Conv2d):\n",
    "        nn.init.kaiming_normal_(m.weight, mode='fan_out', nonlinearity='relu')\n",
    "        if m.bias is not None:\n",
    "          nn.init.constant_(m.bias, 0)\n",
    "      elif isinstance(m, nn.BatchNorm2d):\n",
    "        nn.init.constant_(m.weight, 1)\n",
    "        nn.init.constant_(m.bias, 0)\n",
    "      elif isinstance(m, nn.Linear):\n",
    "        nn.init.kaiming_normal_(m.weight, mode='fan_out', nonlinearity='relu')\n",
    "        nn.init.constant_(m.bias, 0)"
   ]
  },
  {
   "cell_type": "markdown",
   "id": "220b0887-667e-44af-9561-906d7d26c0a1",
   "metadata": {},
   "source": [
    "### LeNet"
   ]
  },
  {
   "cell_type": "code",
   "execution_count": 46,
   "id": "e6228326-c3db-48c9-9324-fe370b53a612",
   "metadata": {},
   "outputs": [],
   "source": [
    "class LeNet(nn.Module):\n",
    "    def __init__(self):\n",
    "        super(LeNet, self).__init__()\n",
    "        self.conv1 = nn.Sequential(nn.Conv2d(in_channels=1, out_channels=6, kernel_size=5), nn.ReLU(), nn.MaxPool2d(stride=1, kernel_size=(2*2)))\n",
    "        self.conv2 = nn.Sequential(nn.Conv2d(6, 16, kernel_size=5), nn.ReLU(),nn.MaxPool2d(stride=1, kernel_size=(2*2)))\n",
    "        self.fc1 = nn.Sequential(nn.Flatten(),nn.Linear(3136, 120), nn.ReLU())\n",
    "        self.fc2 = nn.Sequential(nn.Linear(120, 84), nn.ReLU())\n",
    "        self.fc3 = nn.Linear(84,10)\n",
    "    def forward(self, x):\n",
    "        x = self.conv1(x)\n",
    "        x = self.conv2(x)\n",
    "        x = self.fc1(x)\n",
    "        x = self.fc2(x)\n",
    "        x = self.fc3(x)\n",
    "\n",
    "        return x"
   ]
  },
  {
   "cell_type": "markdown",
   "id": "d604e439-4556-4801-9ca8-c05a3b8d3a24",
   "metadata": {
    "tags": []
   },
   "source": [
    "### Подгрузка модели"
   ]
  },
  {
   "cell_type": "code",
   "execution_count": 47,
   "id": "3cff3a65-cbb1-49a0-a2bc-7fc35af9edb3",
   "metadata": {},
   "outputs": [],
   "source": [
    "class NNNetEnum(Enum):\n",
    "    ens_net = 1\n",
    "    alex_net = 2\n",
    "    vgg8 = 3\n",
    "    res_net = 4\n",
    "    le_net = 5"
   ]
  },
  {
   "cell_type": "code",
   "execution_count": 48,
   "id": "06c20311-0f3b-4697-9c43-d20de7ca1a9e",
   "metadata": {},
   "outputs": [],
   "source": [
    "def get_nn_model(nn_model: NNNetEnum):\n",
    "    model_class = None\n",
    "    if nn_model == NNNetEnum.ens_net:\n",
    "        model_class =  EnsNet\n",
    "    if nn_model == NNNetEnum.alex_net:\n",
    "        model_class =  AlexNet\n",
    "    if nn_model == NNNetEnum.vgg8:\n",
    "        model_class =  VGG8\n",
    "    if nn_model == NNNetEnum.res_net:\n",
    "        model_class =  ResNet\n",
    "    if nn_model == NNNetEnum.le_net:\n",
    "        model_class =  LeNet\n",
    "\n",
    "    if model_class is None:\n",
    "        raise Exception(f'The passed architecture {nn_model} was not found. Check enum conditions.')\n",
    "    \n",
    "    return model_class().to(DEVICE)"
   ]
  },
  {
   "cell_type": "markdown",
   "id": "7fa3651a-6147-43e3-af9c-e24c78a6b10a",
   "metadata": {
    "tags": []
   },
   "source": [
    "## Тесты архитектур"
   ]
  },
  {
   "cell_type": "code",
   "execution_count": 49,
   "id": "faf77646-9942-4650-8151-c87183f8cc14",
   "metadata": {},
   "outputs": [],
   "source": [
    "simple_cnn = get_nn_model(NNNetEnum.le_net)"
   ]
  },
  {
   "cell_type": "code",
   "execution_count": 50,
   "id": "a75f4889-d99e-480c-bcd5-3ef0991de5c0",
   "metadata": {},
   "outputs": [],
   "source": [
    "epoch = 60\n",
    "batch_size = 64\n",
    "num_samples = 5000"
   ]
  },
  {
   "cell_type": "code",
   "execution_count": 51,
   "id": "cf6be65a-810b-4c91-a82f-262c7762cbc4",
   "metadata": {},
   "outputs": [
    {
     "name": "stderr",
     "output_type": "stream",
     "text": [
      "epoch:   0%|                                                                                    | 0/60 [00:00<?, ?it/s]"
     ]
    },
    {
     "name": "stdout",
     "output_type": "stream",
     "text": [
      "loss 1.1028970876693727\n"
     ]
    },
    {
     "name": "stderr",
     "output_type": "stream",
     "text": [
      "epoch:   2%|█▎                                                                          | 1/60 [00:09<09:01,  9.18s/it]"
     ]
    },
    {
     "name": "stdout",
     "output_type": "stream",
     "text": [
      "\n",
      "Epoch 001 train_loss: 1.1029     val_loss 0.4478 train_acc 0.6482 val_acc 0.8602\n",
      "loss 0.39352341735363006\n"
     ]
    },
    {
     "name": "stderr",
     "output_type": "stream",
     "text": [
      "epoch:   3%|██▌                                                                         | 2/60 [00:18<09:08,  9.46s/it]"
     ]
    },
    {
     "name": "stdout",
     "output_type": "stream",
     "text": [
      "\n",
      "Epoch 002 train_loss: 0.3935     val_loss 0.3237 train_acc 0.8740 val_acc 0.8985\n",
      "loss 0.26920304915904997\n"
     ]
    },
    {
     "name": "stderr",
     "output_type": "stream",
     "text": [
      "epoch:   5%|███▊                                                                        | 3/60 [00:28<08:55,  9.40s/it]"
     ]
    },
    {
     "name": "stdout",
     "output_type": "stream",
     "text": [
      "\n",
      "Epoch 003 train_loss: 0.2692     val_loss 0.2464 train_acc 0.9182 val_acc 0.9232\n",
      "loss 0.22519897089004517\n"
     ]
    },
    {
     "name": "stderr",
     "output_type": "stream",
     "text": [
      "epoch:   7%|█████                                                                       | 4/60 [00:37<08:44,  9.36s/it]"
     ]
    },
    {
     "name": "stdout",
     "output_type": "stream",
     "text": [
      "\n",
      "Epoch 004 train_loss: 0.2252     val_loss 0.2051 train_acc 0.9334 val_acc 0.9375\n",
      "loss 0.19965712928771973\n"
     ]
    },
    {
     "name": "stderr",
     "output_type": "stream",
     "text": [
      "epoch:   8%|██████▎                                                                     | 5/60 [00:46<08:38,  9.42s/it]"
     ]
    },
    {
     "name": "stdout",
     "output_type": "stream",
     "text": [
      "\n",
      "Epoch 005 train_loss: 0.1997     val_loss 0.2124 train_acc 0.9372 val_acc 0.9313\n",
      "loss 0.17621357839107513\n"
     ]
    },
    {
     "name": "stderr",
     "output_type": "stream",
     "text": [
      "epoch:  10%|███████▌                                                                    | 6/60 [00:56<08:27,  9.41s/it]"
     ]
    },
    {
     "name": "stdout",
     "output_type": "stream",
     "text": [
      "\n",
      "Epoch 006 train_loss: 0.1762     val_loss 0.1462 train_acc 0.9460 val_acc 0.9546\n",
      "loss 0.1395266133785248\n"
     ]
    },
    {
     "name": "stderr",
     "output_type": "stream",
     "text": [
      "epoch:  12%|████████▊                                                                   | 7/60 [01:05<08:18,  9.40s/it]"
     ]
    },
    {
     "name": "stdout",
     "output_type": "stream",
     "text": [
      "\n",
      "Epoch 007 train_loss: 0.1395     val_loss 0.1634 train_acc 0.9554 val_acc 0.9477\n",
      "loss 0.15879341270923614\n"
     ]
    },
    {
     "name": "stderr",
     "output_type": "stream",
     "text": [
      "epoch:  13%|██████████▏                                                                 | 8/60 [01:14<08:06,  9.35s/it]"
     ]
    },
    {
     "name": "stdout",
     "output_type": "stream",
     "text": [
      "\n",
      "Epoch 008 train_loss: 0.1588     val_loss 0.1695 train_acc 0.9470 val_acc 0.9484\n",
      "loss 0.1398656570315361\n"
     ]
    },
    {
     "name": "stderr",
     "output_type": "stream",
     "text": [
      "epoch:  15%|███████████▍                                                                | 9/60 [01:24<08:07,  9.55s/it]"
     ]
    },
    {
     "name": "stdout",
     "output_type": "stream",
     "text": [
      "\n",
      "Epoch 009 train_loss: 0.1399     val_loss 0.1299 train_acc 0.9572 val_acc 0.9591\n",
      "loss 0.12623453314006328\n"
     ]
    },
    {
     "name": "stderr",
     "output_type": "stream",
     "text": [
      "epoch:  17%|████████████▌                                                              | 10/60 [01:34<07:58,  9.56s/it]"
     ]
    },
    {
     "name": "stdout",
     "output_type": "stream",
     "text": [
      "\n",
      "Epoch 010 train_loss: 0.1262     val_loss 0.1523 train_acc 0.9606 val_acc 0.9507\n",
      "loss 0.12688010202646255\n"
     ]
    },
    {
     "name": "stderr",
     "output_type": "stream",
     "text": [
      "epoch:  18%|█████████████▋                                                             | 11/60 [01:44<07:48,  9.57s/it]"
     ]
    },
    {
     "name": "stdout",
     "output_type": "stream",
     "text": [
      "\n",
      "Epoch 011 train_loss: 0.1269     val_loss 0.1812 train_acc 0.9622 val_acc 0.9473\n",
      "loss 0.121296435546875\n"
     ]
    },
    {
     "name": "stderr",
     "output_type": "stream",
     "text": [
      "epoch:  20%|███████████████                                                            | 12/60 [01:53<07:36,  9.51s/it]"
     ]
    },
    {
     "name": "stdout",
     "output_type": "stream",
     "text": [
      "\n",
      "Epoch 012 train_loss: 0.1213     val_loss 0.1208 train_acc 0.9598 val_acc 0.9618\n",
      "loss 0.12526615659296514\n"
     ]
    },
    {
     "name": "stderr",
     "output_type": "stream",
     "text": [
      "epoch:  22%|████████████████▎                                                          | 13/60 [02:02<07:26,  9.49s/it]"
     ]
    },
    {
     "name": "stdout",
     "output_type": "stream",
     "text": [
      "\n",
      "Epoch 013 train_loss: 0.1253     val_loss 0.1259 train_acc 0.9600 val_acc 0.9590\n",
      "loss 0.12192793831825256\n"
     ]
    },
    {
     "name": "stderr",
     "output_type": "stream",
     "text": [
      "epoch:  23%|█████████████████▌                                                         | 14/60 [02:12<07:17,  9.50s/it]"
     ]
    },
    {
     "name": "stdout",
     "output_type": "stream",
     "text": [
      "\n",
      "Epoch 014 train_loss: 0.1219     val_loss 0.1237 train_acc 0.9608 val_acc 0.9620\n",
      "loss 0.10010999485477805\n"
     ]
    },
    {
     "name": "stderr",
     "output_type": "stream",
     "text": [
      "epoch:  25%|██████████████████▊                                                        | 15/60 [02:22<07:10,  9.56s/it]"
     ]
    },
    {
     "name": "stdout",
     "output_type": "stream",
     "text": [
      "\n",
      "Epoch 015 train_loss: 0.1001     val_loss 0.1207 train_acc 0.9700 val_acc 0.9613\n",
      "loss 0.09631322069168091\n"
     ]
    },
    {
     "name": "stderr",
     "output_type": "stream",
     "text": [
      "epoch:  27%|████████████████████                                                       | 16/60 [02:31<06:59,  9.54s/it]"
     ]
    },
    {
     "name": "stdout",
     "output_type": "stream",
     "text": [
      "\n",
      "Epoch 016 train_loss: 0.0963     val_loss 0.1009 train_acc 0.9700 val_acc 0.9695\n",
      "loss 0.0999664156600833\n"
     ]
    },
    {
     "name": "stderr",
     "output_type": "stream",
     "text": [
      "epoch:  28%|█████████████████████▎                                                     | 17/60 [02:41<06:48,  9.51s/it]"
     ]
    },
    {
     "name": "stdout",
     "output_type": "stream",
     "text": [
      "\n",
      "Epoch 017 train_loss: 0.1000     val_loss 0.1000 train_acc 0.9658 val_acc 0.9684\n",
      "loss 0.07725888962298631\n"
     ]
    },
    {
     "name": "stderr",
     "output_type": "stream",
     "text": [
      "epoch:  30%|██████████████████████▌                                                    | 18/60 [02:50<06:37,  9.47s/it]"
     ]
    },
    {
     "name": "stdout",
     "output_type": "stream",
     "text": [
      "\n",
      "Epoch 018 train_loss: 0.0773     val_loss 0.1110 train_acc 0.9762 val_acc 0.9645\n",
      "loss 0.09148047460317611\n"
     ]
    },
    {
     "name": "stderr",
     "output_type": "stream",
     "text": [
      "epoch:  32%|███████████████████████▊                                                   | 19/60 [02:59<06:22,  9.33s/it]"
     ]
    },
    {
     "name": "stdout",
     "output_type": "stream",
     "text": [
      "\n",
      "Epoch 019 train_loss: 0.0915     val_loss 0.0956 train_acc 0.9714 val_acc 0.9687\n",
      "loss 0.08399430704116821\n"
     ]
    },
    {
     "name": "stderr",
     "output_type": "stream",
     "text": [
      "epoch:  33%|█████████████████████████                                                  | 20/60 [03:08<06:11,  9.29s/it]"
     ]
    },
    {
     "name": "stdout",
     "output_type": "stream",
     "text": [
      "\n",
      "Epoch 020 train_loss: 0.0840     val_loss 0.1035 train_acc 0.9724 val_acc 0.9694\n",
      "loss 0.08483340442180634\n"
     ]
    },
    {
     "name": "stderr",
     "output_type": "stream",
     "text": [
      "epoch:  35%|██████████████████████████▎                                                | 21/60 [03:17<05:58,  9.18s/it]"
     ]
    },
    {
     "name": "stdout",
     "output_type": "stream",
     "text": [
      "\n",
      "Epoch 021 train_loss: 0.0848     val_loss 0.1015 train_acc 0.9738 val_acc 0.9673\n",
      "loss 0.08230232469439507\n"
     ]
    },
    {
     "name": "stderr",
     "output_type": "stream",
     "text": [
      "epoch:  37%|███████████████████████████▍                                               | 22/60 [03:26<05:49,  9.19s/it]"
     ]
    },
    {
     "name": "stdout",
     "output_type": "stream",
     "text": [
      "\n",
      "Epoch 022 train_loss: 0.0823     val_loss 0.0894 train_acc 0.9764 val_acc 0.9730\n",
      "loss 0.07717436036467552\n"
     ]
    },
    {
     "name": "stderr",
     "output_type": "stream",
     "text": [
      "epoch:  38%|████████████████████████████▊                                              | 23/60 [03:36<05:41,  9.22s/it]"
     ]
    },
    {
     "name": "stdout",
     "output_type": "stream",
     "text": [
      "\n",
      "Epoch 023 train_loss: 0.0772     val_loss 0.0999 train_acc 0.9746 val_acc 0.9698\n",
      "loss 0.07978497520685196\n"
     ]
    },
    {
     "name": "stderr",
     "output_type": "stream",
     "text": [
      "epoch:  40%|██████████████████████████████                                             | 24/60 [03:46<05:47,  9.65s/it]"
     ]
    },
    {
     "name": "stdout",
     "output_type": "stream",
     "text": [
      "\n",
      "Epoch 024 train_loss: 0.0798     val_loss 0.1061 train_acc 0.9738 val_acc 0.9666\n",
      "loss 0.08177988315224648\n"
     ]
    },
    {
     "name": "stderr",
     "output_type": "stream",
     "text": [
      "epoch:  42%|███████████████████████████████▎                                           | 25/60 [03:56<05:41,  9.77s/it]"
     ]
    },
    {
     "name": "stdout",
     "output_type": "stream",
     "text": [
      "\n",
      "Epoch 025 train_loss: 0.0818     val_loss 0.1398 train_acc 0.9752 val_acc 0.9571\n",
      "loss 0.07728220607638359\n"
     ]
    },
    {
     "name": "stderr",
     "output_type": "stream",
     "text": [
      "epoch:  43%|████████████████████████████████▌                                          | 26/60 [04:06<05:35,  9.86s/it]"
     ]
    },
    {
     "name": "stdout",
     "output_type": "stream",
     "text": [
      "\n",
      "Epoch 026 train_loss: 0.0773     val_loss 0.1023 train_acc 0.9780 val_acc 0.9670\n",
      "loss 0.07569956180453301\n"
     ]
    },
    {
     "name": "stderr",
     "output_type": "stream",
     "text": [
      "epoch:  45%|█████████████████████████████████▊                                         | 27/60 [04:16<05:20,  9.72s/it]"
     ]
    },
    {
     "name": "stdout",
     "output_type": "stream",
     "text": [
      "\n",
      "Epoch 027 train_loss: 0.0757     val_loss 0.0983 train_acc 0.9780 val_acc 0.9679\n",
      "loss 0.08119062376320361\n"
     ]
    },
    {
     "name": "stderr",
     "output_type": "stream",
     "text": [
      "epoch:  47%|███████████████████████████████████                                        | 28/60 [04:25<05:08,  9.63s/it]"
     ]
    },
    {
     "name": "stdout",
     "output_type": "stream",
     "text": [
      "\n",
      "Epoch 028 train_loss: 0.0812     val_loss 0.0941 train_acc 0.9752 val_acc 0.9707\n",
      "loss 0.06988996843993664\n"
     ]
    },
    {
     "name": "stderr",
     "output_type": "stream",
     "text": [
      "epoch:  48%|████████████████████████████████████▎                                      | 29/60 [04:35<04:55,  9.54s/it]"
     ]
    },
    {
     "name": "stdout",
     "output_type": "stream",
     "text": [
      "\n",
      "Epoch 029 train_loss: 0.0699     val_loss 0.0926 train_acc 0.9780 val_acc 0.9699\n",
      "loss 0.06962464382648469\n"
     ]
    },
    {
     "name": "stderr",
     "output_type": "stream",
     "text": [
      "epoch:  50%|█████████████████████████████████████▌                                     | 30/60 [04:44<04:47,  9.60s/it]"
     ]
    },
    {
     "name": "stdout",
     "output_type": "stream",
     "text": [
      "\n",
      "Epoch 030 train_loss: 0.0696     val_loss 0.0805 train_acc 0.9794 val_acc 0.9761\n",
      "loss 0.06818116546720267\n"
     ]
    },
    {
     "name": "stderr",
     "output_type": "stream",
     "text": [
      "epoch:  52%|██████████████████████████████████████▊                                    | 31/60 [04:54<04:38,  9.62s/it]"
     ]
    },
    {
     "name": "stdout",
     "output_type": "stream",
     "text": [
      "\n",
      "Epoch 031 train_loss: 0.0682     val_loss 0.0864 train_acc 0.9790 val_acc 0.9738\n",
      "loss 0.07320056990385056\n"
     ]
    },
    {
     "name": "stderr",
     "output_type": "stream",
     "text": [
      "epoch:  53%|████████████████████████████████████████                                   | 32/60 [05:04<04:30,  9.68s/it]"
     ]
    },
    {
     "name": "stdout",
     "output_type": "stream",
     "text": [
      "\n",
      "Epoch 032 train_loss: 0.0732     val_loss 0.0887 train_acc 0.9768 val_acc 0.9722\n",
      "loss 0.08529769136756658\n"
     ]
    },
    {
     "name": "stderr",
     "output_type": "stream",
     "text": [
      "epoch:  55%|█████████████████████████████████████████▎                                 | 33/60 [05:13<04:19,  9.61s/it]"
     ]
    },
    {
     "name": "stdout",
     "output_type": "stream",
     "text": [
      "\n",
      "Epoch 033 train_loss: 0.0853     val_loss 0.0813 train_acc 0.9730 val_acc 0.9744\n",
      "loss 0.06985725985169411\n"
     ]
    },
    {
     "name": "stderr",
     "output_type": "stream",
     "text": [
      "epoch:  57%|██████████████████████████████████████████▌                                | 34/60 [05:23<04:08,  9.55s/it]"
     ]
    },
    {
     "name": "stdout",
     "output_type": "stream",
     "text": [
      "\n",
      "Epoch 034 train_loss: 0.0699     val_loss 0.0823 train_acc 0.9800 val_acc 0.9742\n",
      "loss 0.06224372843336314\n"
     ]
    },
    {
     "name": "stderr",
     "output_type": "stream",
     "text": [
      "epoch:  58%|███████████████████████████████████████████▊                               | 35/60 [05:32<03:58,  9.56s/it]"
     ]
    },
    {
     "name": "stdout",
     "output_type": "stream",
     "text": [
      "\n",
      "Epoch 035 train_loss: 0.0622     val_loss 0.0744 train_acc 0.9794 val_acc 0.9772\n",
      "loss 0.06832794629037381\n"
     ]
    },
    {
     "name": "stderr",
     "output_type": "stream",
     "text": [
      "epoch:  60%|█████████████████████████████████████████████                              | 36/60 [05:42<03:49,  9.54s/it]"
     ]
    },
    {
     "name": "stdout",
     "output_type": "stream",
     "text": [
      "\n",
      "Epoch 036 train_loss: 0.0683     val_loss 0.0773 train_acc 0.9790 val_acc 0.9757\n",
      "loss 0.061663007682561874\n"
     ]
    },
    {
     "name": "stderr",
     "output_type": "stream",
     "text": [
      "epoch:  62%|██████████████████████████████████████████████▎                            | 37/60 [05:51<03:40,  9.57s/it]"
     ]
    },
    {
     "name": "stdout",
     "output_type": "stream",
     "text": [
      "\n",
      "Epoch 037 train_loss: 0.0617     val_loss 0.0711 train_acc 0.9796 val_acc 0.9763\n",
      "loss 0.08198586075305939\n"
     ]
    },
    {
     "name": "stderr",
     "output_type": "stream",
     "text": [
      "epoch:  63%|███████████████████████████████████████████████▌                           | 38/60 [06:01<03:28,  9.47s/it]"
     ]
    },
    {
     "name": "stdout",
     "output_type": "stream",
     "text": [
      "\n",
      "Epoch 038 train_loss: 0.0820     val_loss 0.0757 train_acc 0.9730 val_acc 0.9772\n",
      "loss 0.07376151533070952\n"
     ]
    },
    {
     "name": "stderr",
     "output_type": "stream",
     "text": [
      "epoch:  65%|████████████████████████████████████████████████▊                          | 39/60 [06:10<03:16,  9.37s/it]"
     ]
    },
    {
     "name": "stdout",
     "output_type": "stream",
     "text": [
      "\n",
      "Epoch 039 train_loss: 0.0738     val_loss 0.1164 train_acc 0.9764 val_acc 0.9635\n",
      "loss 0.05858914077281952\n"
     ]
    },
    {
     "name": "stderr",
     "output_type": "stream",
     "text": [
      "epoch:  67%|██████████████████████████████████████████████████                         | 40/60 [06:19<03:06,  9.33s/it]"
     ]
    },
    {
     "name": "stdout",
     "output_type": "stream",
     "text": [
      "\n",
      "Epoch 040 train_loss: 0.0586     val_loss 0.0861 train_acc 0.9824 val_acc 0.9722\n",
      "loss 0.056565720783919096\n"
     ]
    },
    {
     "name": "stderr",
     "output_type": "stream",
     "text": [
      "epoch:  68%|███████████████████████████████████████████████████▎                       | 41/60 [06:28<02:57,  9.34s/it]"
     ]
    },
    {
     "name": "stdout",
     "output_type": "stream",
     "text": [
      "\n",
      "Epoch 041 train_loss: 0.0566     val_loss 0.0746 train_acc 0.9796 val_acc 0.9777\n",
      "loss 0.07272889054194093\n"
     ]
    },
    {
     "name": "stderr",
     "output_type": "stream",
     "text": [
      "epoch:  70%|████████████████████████████████████████████████████▌                      | 42/60 [06:38<02:47,  9.32s/it]"
     ]
    },
    {
     "name": "stdout",
     "output_type": "stream",
     "text": [
      "\n",
      "Epoch 042 train_loss: 0.0727     val_loss 0.0763 train_acc 0.9774 val_acc 0.9762\n",
      "loss 0.07722218584418297\n"
     ]
    },
    {
     "name": "stderr",
     "output_type": "stream",
     "text": [
      "epoch:  72%|█████████████████████████████████████████████████████▊                     | 43/60 [06:47<02:38,  9.34s/it]"
     ]
    },
    {
     "name": "stdout",
     "output_type": "stream",
     "text": [
      "\n",
      "Epoch 043 train_loss: 0.0772     val_loss 0.0837 train_acc 0.9782 val_acc 0.9734\n",
      "loss 0.06011170303807594\n"
     ]
    },
    {
     "name": "stderr",
     "output_type": "stream",
     "text": [
      "epoch:  73%|██████████████████████████████████████████████████████▉                    | 44/60 [06:56<02:29,  9.32s/it]"
     ]
    },
    {
     "name": "stdout",
     "output_type": "stream",
     "text": [
      "\n",
      "Epoch 044 train_loss: 0.0601     val_loss 0.0792 train_acc 0.9788 val_acc 0.9760\n",
      "loss 0.054767300901561976\n"
     ]
    },
    {
     "name": "stderr",
     "output_type": "stream",
     "text": [
      "epoch:  75%|████████████████████████████████████████████████████████▎                  | 45/60 [07:06<02:19,  9.30s/it]"
     ]
    },
    {
     "name": "stdout",
     "output_type": "stream",
     "text": [
      "\n",
      "Epoch 045 train_loss: 0.0548     val_loss 0.0767 train_acc 0.9828 val_acc 0.9760\n",
      "loss 0.062138421201705936\n"
     ]
    },
    {
     "name": "stderr",
     "output_type": "stream",
     "text": [
      "epoch:  77%|█████████████████████████████████████████████████████████▌                 | 46/60 [07:15<02:10,  9.33s/it]"
     ]
    },
    {
     "name": "stdout",
     "output_type": "stream",
     "text": [
      "\n",
      "Epoch 046 train_loss: 0.0621     val_loss 0.0715 train_acc 0.9804 val_acc 0.9771\n",
      "loss 0.05621184846451506\n"
     ]
    },
    {
     "name": "stderr",
     "output_type": "stream",
     "text": [
      "epoch:  78%|██████████████████████████████████████████████████████████▊                | 47/60 [07:24<02:01,  9.38s/it]"
     ]
    },
    {
     "name": "stdout",
     "output_type": "stream",
     "text": [
      "\n",
      "Epoch 047 train_loss: 0.0562     val_loss 0.0767 train_acc 0.9808 val_acc 0.9762\n",
      "loss 0.07355762608274817\n"
     ]
    },
    {
     "name": "stderr",
     "output_type": "stream",
     "text": [
      "epoch:  80%|████████████████████████████████████████████████████████████               | 48/60 [07:34<01:53,  9.42s/it]"
     ]
    },
    {
     "name": "stdout",
     "output_type": "stream",
     "text": [
      "\n",
      "Epoch 048 train_loss: 0.0736     val_loss 0.0699 train_acc 0.9778 val_acc 0.9782\n",
      "loss 0.060816845530178396\n"
     ]
    },
    {
     "name": "stderr",
     "output_type": "stream",
     "text": [
      "epoch:  82%|█████████████████████████████████████████████████████████████▎             | 49/60 [07:43<01:43,  9.42s/it]"
     ]
    },
    {
     "name": "stdout",
     "output_type": "stream",
     "text": [
      "\n",
      "Epoch 049 train_loss: 0.0608     val_loss 0.0683 train_acc 0.9796 val_acc 0.9790\n",
      "loss 0.0611475384313846\n"
     ]
    },
    {
     "name": "stderr",
     "output_type": "stream",
     "text": [
      "epoch:  83%|██████████████████████████████████████████████████████████████▌            | 50/60 [07:53<01:34,  9.45s/it]"
     ]
    },
    {
     "name": "stdout",
     "output_type": "stream",
     "text": [
      "\n",
      "Epoch 050 train_loss: 0.0611     val_loss 0.0724 train_acc 0.9800 val_acc 0.9771\n",
      "loss 0.06373488766700029\n"
     ]
    },
    {
     "name": "stderr",
     "output_type": "stream",
     "text": [
      "epoch:  85%|███████████████████████████████████████████████████████████████▊           | 51/60 [08:02<01:25,  9.46s/it]"
     ]
    },
    {
     "name": "stdout",
     "output_type": "stream",
     "text": [
      "\n",
      "Epoch 051 train_loss: 0.0637     val_loss 0.0665 train_acc 0.9808 val_acc 0.9788\n",
      "loss 0.06414240393936634\n"
     ]
    },
    {
     "name": "stderr",
     "output_type": "stream",
     "text": [
      "epoch:  87%|█████████████████████████████████████████████████████████████████          | 52/60 [08:11<01:14,  9.37s/it]"
     ]
    },
    {
     "name": "stdout",
     "output_type": "stream",
     "text": [
      "\n",
      "Epoch 052 train_loss: 0.0641     val_loss 0.0760 train_acc 0.9808 val_acc 0.9752\n",
      "loss 0.0646145037382841\n"
     ]
    },
    {
     "name": "stderr",
     "output_type": "stream",
     "text": [
      "epoch:  88%|██████████████████████████████████████████████████████████████████▎        | 53/60 [08:21<01:05,  9.41s/it]"
     ]
    },
    {
     "name": "stdout",
     "output_type": "stream",
     "text": [
      "\n",
      "Epoch 053 train_loss: 0.0646     val_loss 0.0744 train_acc 0.9782 val_acc 0.9762\n",
      "loss 0.048368530168011785\n"
     ]
    },
    {
     "name": "stderr",
     "output_type": "stream",
     "text": [
      "epoch:  90%|███████████████████████████████████████████████████████████████████▌       | 54/60 [08:30<00:56,  9.36s/it]"
     ]
    },
    {
     "name": "stdout",
     "output_type": "stream",
     "text": [
      "\n",
      "Epoch 054 train_loss: 0.0484     val_loss 0.0696 train_acc 0.9870 val_acc 0.9790\n",
      "loss 0.05792866730056703\n"
     ]
    },
    {
     "name": "stderr",
     "output_type": "stream",
     "text": [
      "epoch:  92%|████████████████████████████████████████████████████████████████████▊      | 55/60 [08:40<00:46,  9.38s/it]"
     ]
    },
    {
     "name": "stdout",
     "output_type": "stream",
     "text": [
      "\n",
      "Epoch 055 train_loss: 0.0579     val_loss 0.0801 train_acc 0.9834 val_acc 0.9744\n",
      "loss 0.05605703810825944\n"
     ]
    },
    {
     "name": "stderr",
     "output_type": "stream",
     "text": [
      "epoch:  93%|██████████████████████████████████████████████████████████████████████     | 56/60 [08:49<00:37,  9.33s/it]"
     ]
    },
    {
     "name": "stdout",
     "output_type": "stream",
     "text": [
      "\n",
      "Epoch 056 train_loss: 0.0561     val_loss 0.0636 train_acc 0.9816 val_acc 0.9800\n",
      "loss 0.04747190660238266\n"
     ]
    },
    {
     "name": "stderr",
     "output_type": "stream",
     "text": [
      "epoch:  95%|███████████████████████████████████████████████████████████████████████▎   | 57/60 [08:58<00:27,  9.26s/it]"
     ]
    },
    {
     "name": "stdout",
     "output_type": "stream",
     "text": [
      "\n",
      "Epoch 057 train_loss: 0.0475     val_loss 0.0701 train_acc 0.9852 val_acc 0.9776\n",
      "loss 0.07111975150108338\n"
     ]
    },
    {
     "name": "stderr",
     "output_type": "stream",
     "text": [
      "epoch:  97%|████████████████████████████████████████████████████████████████████████▌  | 58/60 [09:07<00:18,  9.21s/it]"
     ]
    },
    {
     "name": "stdout",
     "output_type": "stream",
     "text": [
      "\n",
      "Epoch 058 train_loss: 0.0711     val_loss 0.0612 train_acc 0.9774 val_acc 0.9812\n",
      "loss 0.052178631067276\n"
     ]
    },
    {
     "name": "stderr",
     "output_type": "stream",
     "text": [
      "epoch:  98%|█████████████████████████████████████████████████████████████████████████▊ | 59/60 [09:16<00:09,  9.21s/it]"
     ]
    },
    {
     "name": "stdout",
     "output_type": "stream",
     "text": [
      "\n",
      "Epoch 059 train_loss: 0.0522     val_loss 0.0660 train_acc 0.9842 val_acc 0.9808\n",
      "loss 0.05583233566023409\n"
     ]
    },
    {
     "name": "stderr",
     "output_type": "stream",
     "text": [
      "epoch: 100%|███████████████████████████████████████████████████████████████████████████| 60/60 [09:25<00:00,  9.43s/it]"
     ]
    },
    {
     "name": "stdout",
     "output_type": "stream",
     "text": [
      "\n",
      "Epoch 060 train_loss: 0.0558     val_loss 0.0560 train_acc 0.9838 val_acc 0.9838\n"
     ]
    },
    {
     "name": "stderr",
     "output_type": "stream",
     "text": [
      "\n"
     ]
    }
   ],
   "source": [
    "with Timer() as train_timer:\n",
    "    history = train(train_dataset, val_dataset, model=simple_cnn, epochs=epoch, batch_size=batch_size, num_samples=num_samples)"
   ]
  },
  {
   "cell_type": "code",
   "execution_count": 52,
   "id": "e44329f3-b455-4ad0-9dc9-74eaecf19006",
   "metadata": {},
   "outputs": [
    {
     "data": {
      "image/png": "[encoded data removed]",
      "text/plain": [
       "<Figure size 1500x900 with 1 Axes>"
      ]
     },
     "metadata": {},
     "output_type": "display_data"
    }
   ],
   "source": [
    "train_loss, train_acc, val_loss, val_acc = zip(*history)\n",
    "\n",
    "plt.figure(figsize=(15, 9))\n",
    "plt.plot(train_loss, label=\"train_loss\")\n",
    "plt.plot(val_loss, label=\"val_loss\")\n",
    "plt.xlabel(\"epochs\")\n",
    "plt.ylabel(\"loss\")\n",
    "plt.show()"
   ]
  },
  {
   "cell_type": "code",
   "execution_count": 53,
   "id": "5ef5fa31-ed9c-4a06-8d33-27bbbea59887",
   "metadata": {},
   "outputs": [],
   "source": [
    "test_img = [test_dataset[i][0].unsqueeze(0) for i in range(len(test_dataset))]\n",
    "\n",
    "with Timer() as test_timer:\n",
    "    test_pred = predict(simple_cnn, test_img)\n",
    "    y_pred = np.argmax(test_pred,-1)\n"
   ]
  },
  {
   "cell_type": "markdown",
   "id": "f5256aac-ef21-441c-a616-66ef1e642840",
   "metadata": {},
   "source": [
    "#### Accuracy по классам"
   ]
  },
  {
   "cell_type": "code",
   "execution_count": 54,
   "id": "3548ac11-3791-48dd-bb67-e0df8e6ecd10",
   "metadata": {},
   "outputs": [
    {
     "name": "stdout",
     "output_type": "stream",
     "text": [
      "ACCURACY [0.996938775510204, 0.9929515418502203, 0.9883720930232558, 0.9930693069306931, 0.9898167006109979, 0.9809417040358744, 0.9958246346555324, 0.9912451361867705, 0.9835728952772074, 0.9643211100099108]\n"
     ]
    }
   ],
   "source": [
    "proba_ = predict(simple_cnn, DataLoader(test_dataset, batch_size=1, shuffle=False))\n",
    "predict_ = np.argmax(proba_, -1)\n",
    "actual_labels = [el[1] for el in test_dataset]\n",
    "\n",
    "matrix = confusion_matrix(actual_labels, predict_)\n",
    "ac_class = matrix.diagonal() / matrix.sum(axis=1)\n",
    "print('ACCURACY', list(ac_class))"
   ]
  },
  {
   "cell_type": "markdown",
   "id": "95019db1-6833-45ce-9f1a-60dbe12e9d07",
   "metadata": {},
   "source": [
    "#### Общий accuracy"
   ]
  },
  {
   "cell_type": "code",
   "execution_count": 55,
   "id": "48c66854-4529-4b40-99cf-1a6a60bf32b6",
   "metadata": {},
   "outputs": [
    {
     "name": "stdout",
     "output_type": "stream",
     "text": [
      "ACCURACY general: 0.9878 ACCURACY by classes: 0.9877053898090665\n"
     ]
    }
   ],
   "source": [
    "actual_labels =[test_dataset[i][1] for i in range(len(test_dataset))]\n",
    "\n",
    "ac = accuracy_score(actual_labels, y_pred)\n",
    "\n",
    "print(\"ACCURACY general:\", ac, 'ACCURACY by classes:', sum(ac_class) / 10)"
   ]
  },
  {
   "cell_type": "code",
   "execution_count": 56,
   "id": "e2678450-2c30-4b1d-bcc6-cdd8cc0c65b4",
   "metadata": {},
   "outputs": [
    {
     "data": {
      "text/plain": [
       "'LeNet'"
      ]
     },
     "execution_count": 56,
     "metadata": {},
     "output_type": "execute_result"
    }
   ],
   "source": [
    "simple_cnn.__class__.__name__"
   ]
  },
  {
   "cell_type": "markdown",
   "id": "b3d2081e-a3dd-4731-8f07-6afb7d6bf74f",
   "metadata": {},
   "source": [
    "## Логирование в MLFlow"
   ]
  },
  {
   "cell_type": "code",
   "execution_count": 58,
   "id": "472e4bb1-2147-4894-ae80-6eea5a653c6e",
   "metadata": {},
   "outputs": [
    {
     "name": "stderr",
     "output_type": "stream",
     "text": [
      "Registered model 'LeNet' already exists. Creating a new version of this model...\n",
      "Created version '208' of model 'LeNet'.\n"
     ]
    }
   ],
   "source": [
    "model_name = simple_cnn.__class__.__name__\n",
    "\n",
    "params = {\"epoch\": epoch, \"batch_size\": batch_size, \"num_samples\": num_samples}\n",
    "\n",
    "for transform_el in get_transform().transforms:\n",
    "    val = re.sub(r'\\w+\\(', '', str(transform_el))[:-1]\n",
    "\n",
    "    if transform_el.__class__.__name__=='ToCenter':\n",
    "        val='size=(28, 28)'\n",
    "    \n",
    "    if not val:\n",
    "        continue\n",
    "\n",
    "    if transform_el.__class__.__name__=='RandomPerspective':\n",
    "        val=f'{val}, distortion_scale={distortion_scale}'\n",
    "\n",
    "    \n",
    "    params[transform_el.__class__.__name__] = val\n",
    "\n",
    "\n",
    "mlflow.set_tracking_uri(uri=\"sqlite:///mlruns.db\")\n",
    "mlflow.set_experiment(model_name)\n",
    "\n",
    "\n",
    "with mlflow.start_run(run_name=model_name):\n",
    "    # Log the hyperparameters\n",
    "    mlflow.log_params(params)\n",
    "\n",
    "    # Log the metric\n",
    "    mlflow.log_metric(\"accuracy\", ac)\n",
    "    mlflow.log_metric(\"train_time_seconds\", train_timer.float_round())\n",
    "    mlflow.log_metric(\"pred_time_seconds\", test_timer.float_round())\n",
    "\n",
    "    for i in range(10):\n",
    "         mlflow.log_metric(f\"accuracy_{i}\", round(ac_class[i], 5))\n",
    "\n",
    "    # Log the model\n",
    "    model_info = mlflow.pytorch.log_model(\n",
    "        pytorch_model=simple_cnn,\n",
    "        artifact_path=model_name,\n",
    "        #signature = infer_signature(train_set_array, train_pred),\n",
    "        #input_example=train_set_array,\n",
    "        registered_model_name=model_name,\n",
    "    )"
   ]
  },
  {
   "cell_type": "code",
   "execution_count": null,
   "id": "1fb2578f-e01e-4755-b8d2-af068180bec3",
   "metadata": {},
   "outputs": [],
   "source": []
  }
 ],
 "metadata": {
  "kernelspec": {
   "display_name": "cuda",
   "language": "python",
   "name": "cuda"
  },
  "language_info": {
   "codemirror_mode": {
    "name": "ipython",
    "version": 3
   },
   "file_extension": ".py",
   "mimetype": "text/x-python",
   "name": "python",
   "nbconvert_exporter": "python",
   "pygments_lexer": "ipython3",
   "version": "3.12.2"
  }
 },
 "nbformat": 4,
 "nbformat_minor": 5
}
