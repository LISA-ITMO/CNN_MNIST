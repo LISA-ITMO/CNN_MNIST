{
 "cells": [
  {
   "cell_type": "markdown",
   "id": "c30abe23-374e-429a-af7c-be35f5427477",
   "metadata": {
    "tags": []
   },
   "source": [
    "## Импорты и настройка окружения"
   ]
  },
  {
   "cell_type": "code",
   "execution_count": 1,
   "id": "fd2f1551-63f7-43bb-b9a8-a6842aeee2b4",
   "metadata": {},
   "outputs": [],
   "source": [
    "import os\n",
    "import time\n",
    "import re\n",
    "from enum import Enum\n",
    "\n",
    "\n",
    "import numpy as np\n",
    "import pandas as pd\n",
    "import matplotlib.pyplot as plt\n",
    "\n",
    "import mlflow\n",
    "from mlflow.models.signature import infer_signature\n",
    "\n",
    "from sklearn.metrics import accuracy_score, confusion_matrix\n",
    "\n",
    "import torch\n",
    "from torch import nn\n",
    "import torch.optim as optim\n",
    "from torch.optim import lr_scheduler\n",
    "from torch.utils.data import DataLoader, random_split\n",
    "\n",
    "import torchvision\n",
    "from torchvision import datasets, models, transforms\n",
    "\n",
    "from tqdm import tqdm, trange\n",
    "from pyngrok import ngrok\n",
    "\n"
   ]
  },
  {
   "cell_type": "code",
   "execution_count": 2,
   "id": "9cedb64d-48e8-4514-9a01-21cc8fa257c4",
   "metadata": {},
   "outputs": [
    {
     "data": {
      "text/plain": [
       "False"
      ]
     },
     "execution_count": 2,
     "metadata": {},
     "output_type": "execute_result"
    }
   ],
   "source": [
    "os.environ[\"GIT_PYTHON_REFRESH\"] = \"quiet\"\n",
    "import git\n",
    "torch.cuda.is_available()"
   ]
  },
  {
   "cell_type": "code",
   "execution_count": 3,
   "id": "66079542-14ea-4117-a94a-2259f6993506",
   "metadata": {},
   "outputs": [
    {
     "name": "stdout",
     "output_type": "stream",
     "text": [
      "env: MLFLOW_TRACKING_URI=sqlite:///mlruns.db\n"
     ]
    }
   ],
   "source": [
    "%env MLFLOW_TRACKING_URI=sqlite:///mlruns.db"
   ]
  },
  {
   "cell_type": "markdown",
   "id": "0f51e4d6-3253-40ff-b955-4f8e03b89bbf",
   "metadata": {},
   "source": [
    "## Трансформация"
   ]
  },
  {
   "cell_type": "code",
   "execution_count": 4,
   "id": "17974613-c19e-4193-9767-bde683d80577",
   "metadata": {},
   "outputs": [],
   "source": [
    "distortion_scale = 0.3"
   ]
  },
  {
   "cell_type": "code",
   "execution_count": 29,
   "id": "f9903a00-dde8-48d3-b0c1-e06e1c70b2a8",
   "metadata": {},
   "outputs": [],
   "source": [
    "transform = transforms.Compose([\n",
    "    transforms. ElasticTransform(alpha=70.0 ),\n",
    "    transforms.RandomRotation(degrees=30.0),\n",
    "    #transforms.GaussianBlur(kernel_size=(5, 9), sigma=(0.5, 1)),\n",
    "    #transforms.RandomPerspective(p=0.9, distortion_scale=distortion_scale),\n",
    "    #transforms.RandomResizedCrop(size=(28, 28),scale=(0.7, 0.8), ratio=(0.7, 0.8)),\n",
    "    transforms.ToTensor()\n",
    "])"
   ]
  },
  {
   "cell_type": "code",
   "execution_count": 30,
   "id": "ade823ad-11e7-4ad1-bc3f-a1be9dee8b1f",
   "metadata": {},
   "outputs": [],
   "source": [
    "def get_transform():\n",
    "    try:\n",
    "        transform\n",
    "    except NameError:\n",
    "        return transforms.Compose([transforms.ToTensor()])\n",
    "    else:\n",
    "        return transform"
   ]
  },
  {
   "cell_type": "code",
   "execution_count": 31,
   "id": "adbadcc5-d995-403a-a434-b5152bed1c9a",
   "metadata": {},
   "outputs": [],
   "source": [
    "def imshow(inp, title=None, plt_ax=plt, default=False):\n",
    "    \n",
    "    inp = inp.numpy().transpose((1, 2, 0))\n",
    "    mean = np.array([0.485, 0.456, 0.406])\n",
    "    std = np.array([0.229, 0.224, 0.225])\n",
    "    inp = std * inp + mean\n",
    "    inp = np.clip(inp, 0, 1)\n",
    "    \n",
    "    plt_ax.imshow(inp)\n",
    "    \n",
    "    if title is not None:\n",
    "        plt_ax.set_title(title)\n",
    "    plt_ax.grid(False)"
   ]
  },
  {
   "cell_type": "markdown",
   "id": "b603129f-63fd-4726-a0a4-a89ef73e8cc8",
   "metadata": {
    "tags": []
   },
   "source": [
    "## Погрузка и настройка данных"
   ]
  },
  {
   "cell_type": "code",
   "execution_count": 32,
   "id": "f1d652b2-71da-463e-8ab6-9a4c33f0f658",
   "metadata": {},
   "outputs": [],
   "source": [
    "generator1 = torch.Generator().manual_seed(42)\n",
    "\n",
    "dataset_train = datasets.MNIST(root='./data', train=True, transform=transform, download=True)\n",
    "dataset_train_augm = datasets.MNIST(root='./data', train=True, download=True,transform=transform)\n",
    "dataset = torch.utils.data.ConcatDataset(\n",
    "    [dataset_train, dataset_train_augm]\n",
    ")\n",
    "test_dataset = datasets.MNIST(root='./data', train=False, transform=transforms.ToTensor())\n",
    "\n",
    "train_dataset, val_dataset = random_split(dataset, [0.8, 0.2], generator=generator1)\n",
    "\n",
    "DEVICE = torch.device(\"cpu\")"
   ]
  },
  {
   "cell_type": "code",
   "execution_count": 33,
   "id": "0a9a32bb-644a-41aa-baf0-1bff0c7ec9e7",
   "metadata": {},
   "outputs": [
    {
     "data": {
      "image/png": "[encoded data removed]",
      "text/plain": [
       "<Figure size 800x800 with 9 Axes>"
      ]
     },
     "metadata": {},
     "output_type": "display_data"
    }
   ],
   "source": [
    "fig, ax = plt.subplots(nrows=3, ncols=3,figsize=(8, 8), \\\n",
    "                        sharey=True, sharex=True)\n",
    "for fig_x in ax.flatten():\n",
    "    random_characters = int(np.random.uniform(0,1000))\n",
    "    im_val, label = dataset_train_augm[random_characters]\n",
    "    \n",
    "    imshow(im_val.data.cpu(), plt_ax=fig_x)"
   ]
  },
  {
   "cell_type": "markdown",
   "id": "17cddc84-f4e9-476c-98b1-cb9d868c91ed",
   "metadata": {
    "tags": []
   },
   "source": [
    "## Методы обучения, предсказания и оценки"
   ]
  },
  {
   "cell_type": "code",
   "execution_count": 34,
   "id": "f9a9846f-a2bb-4453-8a24-5becc302069e",
   "metadata": {},
   "outputs": [],
   "source": [
    "class Timer:\n",
    "    def __enter__(self):\n",
    "        self._start = time.time()\n",
    "        return self\n",
    "\n",
    "    def __exit__(self, type, value, traceback):\n",
    "        self._end = time.time()\n",
    "\n",
    "    def __str__(self):\n",
    "        num = self.float_round()\n",
    "        return f'{num} seconds'\n",
    "    \n",
    "    def float_round(self, cnt_numbers: int = 4) -> float:\n",
    "        return round(self._end - self._start, cnt_numbers)"
   ]
  },
  {
   "cell_type": "code",
   "execution_count": 35,
   "id": "93cd60b7-680a-4853-b137-35cdc5eb2647",
   "metadata": {},
   "outputs": [],
   "source": [
    "def fit_epoch(model, train_loader, criterion, optimizer):\n",
    "    running_loss = 0.0\n",
    "    running_corrects = 0\n",
    "    processed_data_count = 0\n",
    "\n",
    "    for inputs, labels in train_loader:\n",
    "        inputs = inputs.to(DEVICE)\n",
    "        labels = labels.to(DEVICE)\n",
    "\n",
    "        optimizer.zero_grad()\n",
    "\n",
    "        outputs = model(inputs)\n",
    "        preds = torch.argmax(outputs, 1)\n",
    "\n",
    "        loss = criterion(outputs, labels)\n",
    "        loss.backward()\n",
    "        optimizer.step()\n",
    "\n",
    "        running_loss += loss.item() * inputs.size(0)\n",
    "        running_corrects += torch.sum(preds == labels.data)\n",
    "        processed_data_count += inputs.size(0)\n",
    "\n",
    "    train_loss = running_loss / processed_data_count\n",
    "    train_acc = running_corrects.cpu().numpy() / processed_data_count\n",
    "\n",
    "    return train_loss, train_acc"
   ]
  },
  {
   "cell_type": "code",
   "execution_count": 36,
   "id": "1ca4036a-e9d6-495a-91bb-a252a6a1d057",
   "metadata": {},
   "outputs": [],
   "source": [
    "def eval_epoch(model, val_loader, criterion):\n",
    "    model.eval()\n",
    "\n",
    "    running_loss = 0.0\n",
    "    running_corrects = 0\n",
    "    processed_size = 0\n",
    "\n",
    "    for inputs, labels in val_loader:\n",
    "        inputs = inputs.to(DEVICE)\n",
    "        labels = labels.to(DEVICE)\n",
    "\n",
    "        with torch.set_grad_enabled(False):\n",
    "            outputs = model(inputs)\n",
    "            preds = torch.argmax(outputs, 1)\n",
    "\n",
    "            loss = criterion(outputs, labels)\n",
    "\n",
    "        running_loss += loss.item() * inputs.size(0)\n",
    "        running_corrects += torch.sum(preds == labels.data)\n",
    "        processed_size += inputs.size(0)\n",
    "\n",
    "    val_loss = running_loss / processed_size\n",
    "    val_acc = running_corrects.double() / processed_size\n",
    "\n",
    "    return val_loss, val_acc"
   ]
  },
  {
   "cell_type": "code",
   "execution_count": 37,
   "id": "78413ae3-c88a-4edb-8347-ac0ef3d6e13f",
   "metadata": {},
   "outputs": [],
   "source": [
    "def train(train_files, val_files, model, epochs: int, batch_size: int, num_samples: int):\n",
    "    train_sampler=torch.utils.data.RandomSampler(train_dataset, num_samples=num_samples)\n",
    "    \n",
    "    train_loader = DataLoader(train_dataset, batch_size=batch_size, sampler=train_sampler) # shuffle=True,\n",
    "    val_loader = DataLoader(val_dataset, batch_size=batch_size, shuffle=False)\n",
    "\n",
    "    history = []\n",
    "    log_template = \"\\nEpoch {ep:03d} train_loss: {t_loss:0.4f} \\\n",
    "    val_loss {v_loss:0.4f} train_acc {t_acc:0.4f} val_acc {v_acc:0.4f}\"\n",
    "\n",
    "    with tqdm(desc=\"epoch\", total=epochs) as pbar_outer:\n",
    "        opt = torch.optim.Adam(model.parameters())\n",
    "        criterion = nn.CrossEntropyLoss()\n",
    "\n",
    "        for epoch in range(epochs):\n",
    "            train_loss, train_acc = fit_epoch(model, train_loader, criterion, opt)\n",
    "            print(\"loss\", train_loss)\n",
    "\n",
    "            val_loss, val_acc = eval_epoch(model, val_loader, criterion)\n",
    "            history.append((train_loss, train_acc, val_loss, val_acc))\n",
    "\n",
    "            pbar_outer.update(1)\n",
    "            tqdm.write(log_template.format(ep=epoch+1, t_loss=train_loss,\\\n",
    "                                           v_loss=val_loss, t_acc=train_acc, v_acc=val_acc))\n",
    "\n",
    "    return history"
   ]
  },
  {
   "cell_type": "code",
   "execution_count": 38,
   "id": "07c1a3ae-194e-4445-86bd-20652e9d8245",
   "metadata": {},
   "outputs": [],
   "source": [
    "def predict(model, test_loader):\n",
    "    with torch.no_grad():\n",
    "        logits = []\n",
    "\n",
    "        for inputs in test_loader:\n",
    "            if isinstance(inputs, tuple) or isinstance(inputs, list) and len(inputs) == 2:\n",
    "                # if the loader is really loader, then it returns tuple(X, y)\n",
    "                inputs = inputs[0]\n",
    "\n",
    "            inputs = inputs.to(DEVICE)\n",
    "            model.eval()\n",
    "            \n",
    "            outputs = model(inputs).cpu()\n",
    "            logits.append(outputs)\n",
    "\n",
    "    probs = nn.functional.softmax(torch.cat(logits), dim=-1).numpy()\n",
    "    return probs"
   ]
  },
  {
   "cell_type": "markdown",
   "id": "f107b74f-7c48-4fef-a739-b35f99901887",
   "metadata": {
    "tags": []
   },
   "source": [
    "## Архитектуры"
   ]
  },
  {
   "cell_type": "markdown",
   "id": "391d8d2a-d680-4a0c-b161-1e139a01f5bd",
   "metadata": {
    "jp-MarkdownHeadingCollapsed": true,
    "tags": []
   },
   "source": [
    "### Архитектура EnsNet"
   ]
  },
  {
   "cell_type": "code",
   "execution_count": 14,
   "id": "923137b6-b00e-44e7-8290-0bf0907c033d",
   "metadata": {},
   "outputs": [],
   "source": [
    "class EnsNet(nn.Module):\n",
    "  def __init__(self, num_classes=10):\n",
    "      super(EnsNet, self).__init__()\n",
    "      self.features = nn.Sequential(\n",
    "        nn.Conv2d(1, 64, kernel_size=3, padding=1),\n",
    "        nn.BatchNorm2d(64),\n",
    "        nn.ReLU(inplace=True),\n",
    "        nn.Dropout(0.35),\n",
    "        nn.Conv2d(64, 128, kernel_size=3),\n",
    "        nn.BatchNorm2d(128),\n",
    "        nn.ReLU(inplace=True),\n",
    "        nn.Dropout(0.35),\n",
    "        nn.Conv2d(128, 256, 3, padding=1),\n",
    "        nn.BatchNorm2d(256),\n",
    "        nn.ReLU(inplace=True),\n",
    "        nn.MaxPool2d(kernel_size=2, stride=2),\n",
    "        nn.Dropout(0.35),\n",
    "        nn.Conv2d(256, 512, kernel_size=3, padding=1),\n",
    "        nn.BatchNorm2d(512),\n",
    "        nn.ReLU(inplace=True),\n",
    "        nn.Dropout(0.35),\n",
    "        nn.Conv2d(512, 1024, kernel_size=3),\n",
    "        nn.BatchNorm2d(1024),\n",
    "        nn.ReLU(inplace=True),\n",
    "        nn.Dropout(0.35),\n",
    "        \n",
    "      )\n",
    "      self.avgpool = nn.AdaptiveAvgPool2d((3, 3))\n",
    "      self.classifier_major = nn.Linear(216, num_classes)\n",
    "      self.classifiers = nn.ModuleList([\n",
    "          nn.Linear(216, num_classes)\n",
    "          for _ in range(10)\n",
    "      ])\n",
    "      self.weights = nn.Parameter(torch.ones(11) / 11, requires_grad=True)\n",
    "\n",
    "  def forward(self, x):\n",
    "    x = self.features(x)\n",
    "    x = self.avgpool(x)\n",
    "    x = torch.flatten(x, 1)\n",
    "    x_major = self.classifier_major(x[:, :216])\n",
    "    x_rest = [classifier(x[:, 216 * i :216 * (i + 1) ]) for i, classifier in enumerate(self.classifiers)]\n",
    "    all_x = torch.stack([x_major] + x_rest, dim=1)\n",
    "    weighted_x = torch.sum(all_x * self.weights.view(1, -1, 1), dim=1)\n",
    "    return weighted_x"
   ]
  },
  {
   "cell_type": "markdown",
   "id": "187257fe-d0cc-49ba-a213-efdf0141979f",
   "metadata": {
    "jp-MarkdownHeadingCollapsed": true,
    "tags": []
   },
   "source": [
    "### AlexNet"
   ]
  },
  {
   "cell_type": "code",
   "execution_count": 40,
   "id": "9d44efba-c874-4eb1-af55-82dd52b94c11",
   "metadata": {},
   "outputs": [],
   "source": [
    "class AlexNet(nn.Module):   \n",
    "    def __init__(self, num=10):\n",
    "        super(AlexNet, self).__init__()\n",
    "        self.feature = nn.Sequential(\n",
    "            nn.Conv2d(1, 32, kernel_size=5, stride=1, padding=1),\n",
    "            nn.ReLU(inplace=True), \n",
    "            nn.Conv2d(32, 64, kernel_size=3, padding=1),\n",
    "            nn.ReLU(inplace=True),   \n",
    "            nn.MaxPool2d( kernel_size=2, stride=2),\n",
    "            nn.Conv2d(64, 96, kernel_size=3, padding=1),\n",
    "            nn.ReLU(inplace=True),                         \n",
    "            nn.Conv2d(96, 64, kernel_size=3, padding=1),\n",
    "            nn.ReLU(inplace=True),                         \n",
    "            nn.Conv2d(64, 32, kernel_size=3, padding=1),\n",
    "            nn.ReLU(inplace=True),\n",
    "            nn.MaxPool2d( kernel_size=2, stride=1),\n",
    "        )\n",
    "        self.classifier = nn.Sequential(\n",
    "            nn.Dropout(),\n",
    "            nn.Linear(32*12*12,2048),\n",
    "            nn.ReLU(inplace=True),\n",
    "            nn.Dropout(),\n",
    "            nn.Linear(2048,1024),\n",
    "            nn.ReLU(inplace=True),\n",
    "            nn.Linear(1024,num),\n",
    "         \n",
    "        )\n",
    "    \n",
    "    def forward(self, x):\n",
    "\n",
    "        x = self.feature(x)\n",
    "        x = x.view(-1,32*12*12)\n",
    "        x = self.classifier(x)\n",
    "        return x"
   ]
  },
  {
   "cell_type": "markdown",
   "id": "4cd33c83-96a5-4b54-9e7e-b6ffe99307f0",
   "metadata": {
    "jp-MarkdownHeadingCollapsed": true,
    "tags": []
   },
   "source": [
    "### VGG8"
   ]
  },
  {
   "cell_type": "code",
   "execution_count": 39,
   "id": "402d58c7-00d3-40a5-abb1-a206977c2b57",
   "metadata": {},
   "outputs": [],
   "source": [
    "class VGG8(nn.Module):\n",
    "    def __init__(self):\n",
    "        super(VGG8, self).__init__()\n",
    "        # 1 input image channel, 6 output channels, 3x3 square conv kernel\n",
    "        self.conv1 = nn.Sequential(nn.Conv2d(in_channels=1, out_channels=6,  kernel_size=(3,3)),  nn.ReLU(), nn.MaxPool2d(stride=1, kernel_size=(2*2)))\n",
    "\n",
    "        self.conv2 = nn.Sequential(nn.Conv2d(6, 16, kernel_size=(3,3)), nn.ReLU(), nn.MaxPool2d(stride=1, kernel_size=(2*2)))\n",
    "\n",
    "        self.conv3 = nn.Sequential(nn.Conv2d(16, 32, kernel_size=(3,3)), nn.ReLU(), nn.MaxPool2d(stride=1, kernel_size=(2*2)))\n",
    "\n",
    "        self.conv4 = nn.Sequential(nn.Conv2d(32, 64, kernel_size=(3,3)), nn.ReLU(), nn.MaxPool2d(stride=1, kernel_size=(2*2)))\n",
    "        self.conv5 = nn.Sequential(nn.Conv2d(64, 64, kernel_size=(3,3)), nn.ReLU(), nn.MaxPool2d(stride=1, kernel_size=(2*2)))\n",
    "        self.fc1 = nn.Sequential(nn.Flatten(),nn.Linear(5184, 64), nn.ReLU())\n",
    "        self.fc2 = nn.Sequential(nn.Linear(64, 128), nn.ReLU())\n",
    "        self.fc3 = nn.Linear(128,10)\n",
    "    def forward(self, x):\n",
    "        x = self.conv1(x)\n",
    "        x = self.conv2(x)\n",
    "        x = self.fc1(x)\n",
    "        x = self.fc2(x)\n",
    "        x = self.fc3(x)\n",
    "\n",
    "        return x"
   ]
  },
  {
   "cell_type": "markdown",
   "id": "015af038-0844-4025-8297-5b7e046aba51",
   "metadata": {
    "jp-MarkdownHeadingCollapsed": true,
    "tags": []
   },
   "source": [
    "### ResNet"
   ]
  },
  {
   "cell_type": "code",
   "execution_count": 17,
   "id": "c171d867-3ad5-450b-937c-4a0bffff1c38",
   "metadata": {},
   "outputs": [],
   "source": [
    "class BasicBlock(nn.Module):\n",
    "  def __init__(self, in_channels, out_channels, stride=1):\n",
    "    super(BasicBlock, self).__init__()\n",
    "    self.conv1 = nn.Conv2d(in_channels, out_channels, kernel_size=3, stride=stride, padding=1, bias=False)\n",
    "    self.bn1 = nn.BatchNorm2d(out_channels)\n",
    "    self.conv2 = nn.Conv2d(out_channels, out_channels, kernel_size=3, stride=1, padding=1, bias=False)\n",
    "    self.bn2 = nn.BatchNorm2d(out_channels)\n",
    "\n",
    "    self.shortcut = nn.Sequential()\n",
    "    if stride != 1 or in_channels != out_channels:\n",
    "      self.shortcut = nn.Sequential(\n",
    "        nn.Conv2d(in_channels, out_channels, kernel_size=1, stride=stride, bias=False),\n",
    "        nn.BatchNorm2d(out_channels)\n",
    "      )\n",
    "  def forward(self, x):\n",
    "    out = nn.ReLU(inplace=True)(self.bn1(self.conv1(x)))\n",
    "    out = self.bn2(self.conv2(out))\n",
    "    out += self.shortcut(x)\n",
    "    out = nn.ReLU(inplace=True)(out)\n",
    "    return out\n",
    "\n",
    "class ResNet(nn.Module):\n",
    "  def __init__(self, num_classes=10):\n",
    "    super(ResNet, self).__init__()\n",
    "    self.in_channels = 16\n",
    "\n",
    "    self.model = nn.Sequential(\n",
    "      nn.Conv2d(1, 16, kernel_size=3, stride=1, padding=1, bias=False),\n",
    "      nn.BatchNorm2d(16),\n",
    "      nn.ReLU(inplace=True),\n",
    "      nn.MaxPool2d(kernel_size=3, stride=2, padding=1),\n",
    "      self._make_layer(16, 2, stride=1),\n",
    "      self._make_layer(32, 2, stride=2),\n",
    "      self._make_layer(64, 2, stride=2),\n",
    "      self._make_layer(128, 2, stride=2),\n",
    "      nn.AdaptiveAvgPool2d((1, 1)),\n",
    "      nn.Flatten(start_dim=1),\n",
    "      nn.Linear(128, num_classes)\n",
    "  )\n",
    "    self._initialize_weights()\n",
    "\n",
    "  def _make_layer(self, out_channels, num_blocks, stride):\n",
    "    strides = [stride] + [1] * (num_blocks - 1)\n",
    "    layers = []\n",
    "    for stride in strides:\n",
    "      layers.append(BasicBlock(self.in_channels, out_channels, stride))\n",
    "      self.in_channels = out_channels\n",
    "    return nn.Sequential(*layers)\n",
    "\n",
    "  def forward(self, x):\n",
    "    return self.model(x)\n",
    "\n",
    "  def _initialize_weights(self):\n",
    "    for m in self.modules():\n",
    "      if isinstance(m, nn.Conv2d):\n",
    "        nn.init.kaiming_normal_(m.weight, mode='fan_out', nonlinearity='relu')\n",
    "        if m.bias is not None:\n",
    "          nn.init.constant_(m.bias, 0)\n",
    "      elif isinstance(m, nn.BatchNorm2d):\n",
    "        nn.init.constant_(m.weight, 1)\n",
    "        nn.init.constant_(m.bias, 0)\n",
    "      elif isinstance(m, nn.Linear):\n",
    "        nn.init.kaiming_normal_(m.weight, mode='fan_out', nonlinearity='relu')\n",
    "        nn.init.constant_(m.bias, 0)"
   ]
  },
  {
   "cell_type": "markdown",
   "id": "220b0887-667e-44af-9561-906d7d26c0a1",
   "metadata": {},
   "source": [
    "### LeNet"
   ]
  },
  {
   "cell_type": "code",
   "execution_count": 15,
   "id": "e6228326-c3db-48c9-9324-fe370b53a612",
   "metadata": {},
   "outputs": [],
   "source": [
    "class LeNet(nn.Module):\n",
    "    def __init__(self):\n",
    "        super(LeNet, self).__init__()\n",
    "        self.conv1 = nn.Sequential(nn.Conv2d(in_channels=1, out_channels=6, kernel_size=5), nn.ReLU(), nn.MaxPool2d(stride=1, kernel_size=(2*2)))\n",
    "        self.conv2 = nn.Sequential(nn.Conv2d(6, 16, kernel_size=5), nn.ReLU(),nn.MaxPool2d(stride=1, kernel_size=(2*2)))\n",
    "        self.fc1 = nn.Sequential(nn.Flatten(),nn.Linear(3136, 120), nn.ReLU())\n",
    "        self.fc2 = nn.Sequential(nn.Linear(120, 84), nn.ReLU())\n",
    "        self.fc3 = nn.Linear(84,10)\n",
    "    def forward(self, x):\n",
    "        x = self.conv1(x)\n",
    "        x = self.conv2(x)\n",
    "        x = self.fc1(x)\n",
    "        x = self.fc2(x)\n",
    "        x = self.fc3(x)\n",
    "\n",
    "        return x"
   ]
  },
  {
   "cell_type": "markdown",
   "id": "d604e439-4556-4801-9ca8-c05a3b8d3a24",
   "metadata": {
    "tags": []
   },
   "source": [
    "### Подгрузка модели"
   ]
  },
  {
   "cell_type": "code",
   "execution_count": 16,
   "id": "3cff3a65-cbb1-49a0-a2bc-7fc35af9edb3",
   "metadata": {},
   "outputs": [],
   "source": [
    "class NNNetEnum(Enum):\n",
    "    ens_net = 1\n",
    "    alex_net = 2\n",
    "    vgg8 = 3\n",
    "    res_net = 4\n",
    "    le_net = 5"
   ]
  },
  {
   "cell_type": "code",
   "execution_count": 17,
   "id": "06c20311-0f3b-4697-9c43-d20de7ca1a9e",
   "metadata": {},
   "outputs": [],
   "source": [
    "def get_nn_model(nn_model: NNNetEnum):\n",
    "    model_class = None\n",
    "    if nn_model == NNNetEnum.ens_net:\n",
    "        model_class =  EnsNet\n",
    "    if nn_model == NNNetEnum.alex_net:\n",
    "        model_class =  AlexNet\n",
    "    if nn_model == NNNetEnum.vgg8:\n",
    "        model_class =  VGG8\n",
    "    if nn_model == NNNetEnum.res_net:\n",
    "        model_class =  ResNet\n",
    "    if nn_model == NNNetEnum.le_net:\n",
    "        model_class =  LeNet\n",
    "\n",
    "    if model_class is None:\n",
    "        raise Exception(f'The passed architecture {nn_model} was not found. Check enum conditions.')\n",
    "    \n",
    "    return model_class().to(DEVICE)"
   ]
  },
  {
   "cell_type": "markdown",
   "id": "7fa3651a-6147-43e3-af9c-e24c78a6b10a",
   "metadata": {
    "tags": []
   },
   "source": [
    "## Тесты архитектур"
   ]
  },
  {
   "cell_type": "code",
   "execution_count": 18,
   "id": "faf77646-9942-4650-8151-c87183f8cc14",
   "metadata": {},
   "outputs": [],
   "source": [
    "simple_cnn = get_nn_model(NNNetEnum.le_net)"
   ]
  },
  {
   "cell_type": "code",
   "execution_count": 19,
   "id": "a75f4889-d99e-480c-bcd5-3ef0991de5c0",
   "metadata": {},
   "outputs": [],
   "source": [
    "epoch = 40\n",
    "batch_size = 64\n",
    "num_samples = 5000"
   ]
  },
  {
   "cell_type": "code",
   "execution_count": 20,
   "id": "cf6be65a-810b-4c91-a82f-262c7762cbc4",
   "metadata": {},
   "outputs": [
    {
     "name": "stderr",
     "output_type": "stream",
     "text": [
      "epoch:   0%|                                                                                    | 0/40 [00:00<?, ?it/s]"
     ]
    },
    {
     "name": "stdout",
     "output_type": "stream",
     "text": [
      "loss 1.5446465084075929\n"
     ]
    },
    {
     "name": "stderr",
     "output_type": "stream",
     "text": [
      "epoch:   2%|█▉                                                                          | 1/40 [00:29<19:03, 29.33s/it]"
     ]
    },
    {
     "name": "stdout",
     "output_type": "stream",
     "text": [
      "\n",
      "Epoch 001 train_loss: 1.5446     val_loss 0.9070 train_acc 0.4734 val_acc 0.6883\n",
      "loss 0.7475187007904053\n"
     ]
    },
    {
     "name": "stderr",
     "output_type": "stream",
     "text": [
      "epoch:   5%|███▊                                                                        | 2/40 [00:58<18:31, 29.25s/it]"
     ]
    },
    {
     "name": "stdout",
     "output_type": "stream",
     "text": [
      "\n",
      "Epoch 002 train_loss: 0.7475     val_loss 0.6653 train_acc 0.7550 val_acc 0.7790\n",
      "loss 0.5814426034927368\n"
     ]
    },
    {
     "name": "stderr",
     "output_type": "stream",
     "text": [
      "epoch:   8%|█████▋                                                                      | 3/40 [01:27<18:02, 29.27s/it]"
     ]
    },
    {
     "name": "stdout",
     "output_type": "stream",
     "text": [
      "\n",
      "Epoch 003 train_loss: 0.5814     val_loss 0.5092 train_acc 0.8140 val_acc 0.8315\n",
      "loss 0.4604209532737732\n"
     ]
    },
    {
     "name": "stderr",
     "output_type": "stream",
     "text": [
      "epoch:  10%|███████▌                                                                    | 4/40 [01:57<17:37, 29.37s/it]"
     ]
    },
    {
     "name": "stdout",
     "output_type": "stream",
     "text": [
      "\n",
      "Epoch 004 train_loss: 0.4604     val_loss 0.4571 train_acc 0.8454 val_acc 0.8478\n",
      "loss 0.414718639087677\n"
     ]
    },
    {
     "name": "stderr",
     "output_type": "stream",
     "text": [
      "epoch:  12%|█████████▌                                                                  | 5/40 [02:26<17:10, 29.43s/it]"
     ]
    },
    {
     "name": "stdout",
     "output_type": "stream",
     "text": [
      "\n",
      "Epoch 005 train_loss: 0.4147     val_loss 0.3858 train_acc 0.8666 val_acc 0.8813\n",
      "loss 0.3664621339797974\n"
     ]
    },
    {
     "name": "stderr",
     "output_type": "stream",
     "text": [
      "epoch:  15%|███████████▍                                                                | 6/40 [02:56<16:45, 29.57s/it]"
     ]
    },
    {
     "name": "stdout",
     "output_type": "stream",
     "text": [
      "\n",
      "Epoch 006 train_loss: 0.3665     val_loss 0.4681 train_acc 0.8854 val_acc 0.8470\n",
      "loss 0.35502244604229927\n"
     ]
    },
    {
     "name": "stderr",
     "output_type": "stream",
     "text": [
      "epoch:  18%|█████████████▎                                                              | 7/40 [03:26<16:17, 29.62s/it]"
     ]
    },
    {
     "name": "stdout",
     "output_type": "stream",
     "text": [
      "\n",
      "Epoch 007 train_loss: 0.3550     val_loss 0.3232 train_acc 0.8828 val_acc 0.8975\n",
      "loss 0.32505944995880126\n"
     ]
    },
    {
     "name": "stderr",
     "output_type": "stream",
     "text": [
      "epoch:  20%|███████████████▏                                                            | 8/40 [03:55<15:44, 29.51s/it]"
     ]
    },
    {
     "name": "stdout",
     "output_type": "stream",
     "text": [
      "\n",
      "Epoch 008 train_loss: 0.3251     val_loss 0.3432 train_acc 0.9006 val_acc 0.8910\n",
      "loss 0.3126880997657776\n"
     ]
    },
    {
     "name": "stderr",
     "output_type": "stream",
     "text": [
      "epoch:  22%|█████████████████                                                           | 9/40 [04:24<15:12, 29.43s/it]"
     ]
    },
    {
     "name": "stdout",
     "output_type": "stream",
     "text": [
      "\n",
      "Epoch 009 train_loss: 0.3127     val_loss 0.2925 train_acc 0.9050 val_acc 0.9072\n",
      "loss 0.30471830151081086\n"
     ]
    },
    {
     "name": "stderr",
     "output_type": "stream",
     "text": [
      "epoch:  25%|██████████████████▊                                                        | 10/40 [04:54<14:42, 29.41s/it]"
     ]
    },
    {
     "name": "stdout",
     "output_type": "stream",
     "text": [
      "\n",
      "Epoch 010 train_loss: 0.3047     val_loss 0.2927 train_acc 0.9012 val_acc 0.9073\n",
      "loss 0.27249718180298804\n"
     ]
    },
    {
     "name": "stderr",
     "output_type": "stream",
     "text": [
      "epoch:  28%|████████████████████▋                                                      | 11/40 [05:23<14:12, 29.38s/it]"
     ]
    },
    {
     "name": "stdout",
     "output_type": "stream",
     "text": [
      "\n",
      "Epoch 011 train_loss: 0.2725     val_loss 0.2790 train_acc 0.9090 val_acc 0.9105\n",
      "loss 0.26812297649383543\n"
     ]
    },
    {
     "name": "stderr",
     "output_type": "stream",
     "text": [
      "epoch:  30%|██████████████████████▌                                                    | 12/40 [05:54<13:52, 29.72s/it]"
     ]
    },
    {
     "name": "stdout",
     "output_type": "stream",
     "text": [
      "\n",
      "Epoch 012 train_loss: 0.2681     val_loss 0.2636 train_acc 0.9164 val_acc 0.9162\n",
      "loss 0.2765586144447327\n"
     ]
    },
    {
     "name": "stderr",
     "output_type": "stream",
     "text": [
      "epoch:  32%|████████████████████████▍                                                  | 13/40 [06:23<13:23, 29.74s/it]"
     ]
    },
    {
     "name": "stdout",
     "output_type": "stream",
     "text": [
      "\n",
      "Epoch 013 train_loss: 0.2766     val_loss 0.2580 train_acc 0.9096 val_acc 0.9164\n",
      "loss 0.2392433893799782\n"
     ]
    },
    {
     "name": "stderr",
     "output_type": "stream",
     "text": [
      "epoch:  35%|██████████████████████████▎                                                | 14/40 [06:53<12:54, 29.78s/it]"
     ]
    },
    {
     "name": "stdout",
     "output_type": "stream",
     "text": [
      "\n",
      "Epoch 014 train_loss: 0.2392     val_loss 0.2473 train_acc 0.9216 val_acc 0.9236\n",
      "loss 0.23696450428962706\n"
     ]
    },
    {
     "name": "stderr",
     "output_type": "stream",
     "text": [
      "epoch:  38%|████████████████████████████▏                                              | 15/40 [07:23<12:22, 29.70s/it]"
     ]
    },
    {
     "name": "stdout",
     "output_type": "stream",
     "text": [
      "\n",
      "Epoch 015 train_loss: 0.2370     val_loss 0.2178 train_acc 0.9244 val_acc 0.9312\n",
      "loss 0.22728160581588744\n"
     ]
    },
    {
     "name": "stderr",
     "output_type": "stream",
     "text": [
      "epoch:  40%|██████████████████████████████                                             | 16/40 [07:53<11:56, 29.87s/it]"
     ]
    },
    {
     "name": "stdout",
     "output_type": "stream",
     "text": [
      "\n",
      "Epoch 016 train_loss: 0.2273     val_loss 0.2411 train_acc 0.9280 val_acc 0.9210\n",
      "loss 0.26116338112950327\n"
     ]
    },
    {
     "name": "stderr",
     "output_type": "stream",
     "text": [
      "epoch:  42%|███████████████████████████████▉                                           | 17/40 [08:23<11:26, 29.84s/it]"
     ]
    },
    {
     "name": "stdout",
     "output_type": "stream",
     "text": [
      "\n",
      "Epoch 017 train_loss: 0.2612     val_loss 0.2648 train_acc 0.9182 val_acc 0.9132\n",
      "loss 0.21086936421394348\n"
     ]
    },
    {
     "name": "stderr",
     "output_type": "stream",
     "text": [
      "epoch:  45%|█████████████████████████████████▊                                         | 18/40 [08:53<10:56, 29.83s/it]"
     ]
    },
    {
     "name": "stdout",
     "output_type": "stream",
     "text": [
      "\n",
      "Epoch 018 train_loss: 0.2109     val_loss 0.2047 train_acc 0.9340 val_acc 0.9346\n",
      "loss 0.21640672569274902\n"
     ]
    },
    {
     "name": "stderr",
     "output_type": "stream",
     "text": [
      "epoch:  48%|███████████████████████████████████▋                                       | 19/40 [09:23<10:27, 29.88s/it]"
     ]
    },
    {
     "name": "stdout",
     "output_type": "stream",
     "text": [
      "\n",
      "Epoch 019 train_loss: 0.2164     val_loss 0.2178 train_acc 0.9332 val_acc 0.9303\n",
      "loss 0.21694258946180345\n"
     ]
    },
    {
     "name": "stderr",
     "output_type": "stream",
     "text": [
      "epoch:  50%|█████████████████████████████████████▌                                     | 20/40 [09:53<09:57, 29.87s/it]"
     ]
    },
    {
     "name": "stdout",
     "output_type": "stream",
     "text": [
      "\n",
      "Epoch 020 train_loss: 0.2169     val_loss 0.2275 train_acc 0.9314 val_acc 0.9274\n",
      "loss 0.2092399337053299\n"
     ]
    },
    {
     "name": "stderr",
     "output_type": "stream",
     "text": [
      "epoch:  52%|███████████████████████████████████████▍                                   | 21/40 [10:22<09:27, 29.89s/it]"
     ]
    },
    {
     "name": "stdout",
     "output_type": "stream",
     "text": [
      "\n",
      "Epoch 021 train_loss: 0.2092     val_loss 0.2086 train_acc 0.9308 val_acc 0.9344\n",
      "loss 0.21303543446063997\n"
     ]
    },
    {
     "name": "stderr",
     "output_type": "stream",
     "text": [
      "epoch:  55%|█████████████████████████████████████████▎                                 | 22/40 [10:52<08:55, 29.75s/it]"
     ]
    },
    {
     "name": "stdout",
     "output_type": "stream",
     "text": [
      "\n",
      "Epoch 022 train_loss: 0.2130     val_loss 0.1949 train_acc 0.9302 val_acc 0.9357\n",
      "loss 0.21776635402441025\n"
     ]
    },
    {
     "name": "stderr",
     "output_type": "stream",
     "text": [
      "epoch:  57%|███████████████████████████████████████████▏                               | 23/40 [11:22<08:26, 29.79s/it]"
     ]
    },
    {
     "name": "stdout",
     "output_type": "stream",
     "text": [
      "\n",
      "Epoch 023 train_loss: 0.2178     val_loss 0.2168 train_acc 0.9324 val_acc 0.9283\n",
      "loss 0.1886867332816124\n"
     ]
    },
    {
     "name": "stderr",
     "output_type": "stream",
     "text": [
      "epoch:  60%|█████████████████████████████████████████████                              | 24/40 [11:52<07:57, 29.82s/it]"
     ]
    },
    {
     "name": "stdout",
     "output_type": "stream",
     "text": [
      "\n",
      "Epoch 024 train_loss: 0.1887     val_loss 0.2152 train_acc 0.9382 val_acc 0.9314\n",
      "loss 0.17706629605293273\n"
     ]
    },
    {
     "name": "stderr",
     "output_type": "stream",
     "text": [
      "epoch:  62%|██████████████████████████████████████████████▉                            | 25/40 [12:22<07:29, 30.00s/it]"
     ]
    },
    {
     "name": "stdout",
     "output_type": "stream",
     "text": [
      "\n",
      "Epoch 025 train_loss: 0.1771     val_loss 0.1948 train_acc 0.9454 val_acc 0.9377\n",
      "loss 0.1789806528568268\n"
     ]
    },
    {
     "name": "stderr",
     "output_type": "stream",
     "text": [
      "epoch:  65%|████████████████████████████████████████████████▊                          | 26/40 [12:51<06:56, 29.76s/it]"
     ]
    },
    {
     "name": "stdout",
     "output_type": "stream",
     "text": [
      "\n",
      "Epoch 026 train_loss: 0.1790     val_loss 0.2732 train_acc 0.9392 val_acc 0.9115\n",
      "loss 0.2019269094340503\n"
     ]
    },
    {
     "name": "stderr",
     "output_type": "stream",
     "text": [
      "epoch:  68%|██████████████████████████████████████████████████▋                        | 27/40 [13:20<06:24, 29.56s/it]"
     ]
    },
    {
     "name": "stdout",
     "output_type": "stream",
     "text": [
      "\n",
      "Epoch 027 train_loss: 0.2019     val_loss 0.2071 train_acc 0.9358 val_acc 0.9343\n",
      "loss 0.19787092344760895\n"
     ]
    },
    {
     "name": "stderr",
     "output_type": "stream",
     "text": [
      "epoch:  70%|████████████████████████████████████████████████████▌                      | 28/40 [13:49<05:52, 29.40s/it]"
     ]
    },
    {
     "name": "stdout",
     "output_type": "stream",
     "text": [
      "\n",
      "Epoch 028 train_loss: 0.1979     val_loss 0.1886 train_acc 0.9386 val_acc 0.9400\n",
      "loss 0.18317289118766786\n"
     ]
    },
    {
     "name": "stderr",
     "output_type": "stream",
     "text": [
      "epoch:  72%|██████████████████████████████████████████████████████▍                    | 29/40 [14:18<05:22, 29.29s/it]"
     ]
    },
    {
     "name": "stdout",
     "output_type": "stream",
     "text": [
      "\n",
      "Epoch 029 train_loss: 0.1832     val_loss 0.2033 train_acc 0.9354 val_acc 0.9345\n",
      "loss 0.17769911344647407\n"
     ]
    },
    {
     "name": "stderr",
     "output_type": "stream",
     "text": [
      "epoch:  75%|████████████████████████████████████████████████████████▎                  | 30/40 [14:47<04:52, 29.22s/it]"
     ]
    },
    {
     "name": "stdout",
     "output_type": "stream",
     "text": [
      "\n",
      "Epoch 030 train_loss: 0.1777     val_loss 0.1884 train_acc 0.9436 val_acc 0.9408\n",
      "loss 0.1800137658238411\n"
     ]
    },
    {
     "name": "stderr",
     "output_type": "stream",
     "text": [
      "epoch:  78%|██████████████████████████████████████████████████████████▏                | 31/40 [15:17<04:22, 29.17s/it]"
     ]
    },
    {
     "name": "stdout",
     "output_type": "stream",
     "text": [
      "\n",
      "Epoch 031 train_loss: 0.1800     val_loss 0.1795 train_acc 0.9422 val_acc 0.9430\n",
      "loss 0.16831003613471984\n"
     ]
    },
    {
     "name": "stderr",
     "output_type": "stream",
     "text": [
      "epoch:  80%|████████████████████████████████████████████████████████████               | 32/40 [15:46<03:53, 29.14s/it]"
     ]
    },
    {
     "name": "stdout",
     "output_type": "stream",
     "text": [
      "\n",
      "Epoch 032 train_loss: 0.1683     val_loss 0.1753 train_acc 0.9484 val_acc 0.9459\n",
      "loss 0.19155308141708374\n"
     ]
    },
    {
     "name": "stderr",
     "output_type": "stream",
     "text": [
      "epoch:  82%|█████████████████████████████████████████████████████████████▉             | 33/40 [16:15<03:23, 29.12s/it]"
     ]
    },
    {
     "name": "stdout",
     "output_type": "stream",
     "text": [
      "\n",
      "Epoch 033 train_loss: 0.1916     val_loss 0.2065 train_acc 0.9430 val_acc 0.9338\n",
      "loss 0.1797897385120392\n"
     ]
    },
    {
     "name": "stderr",
     "output_type": "stream",
     "text": [
      "epoch:  85%|███████████████████████████████████████████████████████████████▊           | 34/40 [16:44<02:54, 29.14s/it]"
     ]
    },
    {
     "name": "stdout",
     "output_type": "stream",
     "text": [
      "\n",
      "Epoch 034 train_loss: 0.1798     val_loss 0.1820 train_acc 0.9436 val_acc 0.9415\n",
      "loss 0.17516656165122985\n"
     ]
    },
    {
     "name": "stderr",
     "output_type": "stream",
     "text": [
      "epoch:  88%|█████████████████████████████████████████████████████████████████▋         | 35/40 [17:13<02:26, 29.30s/it]"
     ]
    },
    {
     "name": "stdout",
     "output_type": "stream",
     "text": [
      "\n",
      "Epoch 035 train_loss: 0.1752     val_loss 0.1552 train_acc 0.9488 val_acc 0.9503\n",
      "loss 0.16116457676887513\n"
     ]
    },
    {
     "name": "stderr",
     "output_type": "stream",
     "text": [
      "epoch:  90%|███████████████████████████████████████████████████████████████████▌       | 36/40 [17:43<01:57, 29.41s/it]"
     ]
    },
    {
     "name": "stdout",
     "output_type": "stream",
     "text": [
      "\n",
      "Epoch 036 train_loss: 0.1612     val_loss 0.1686 train_acc 0.9478 val_acc 0.9469\n",
      "loss 0.18796770503520965\n"
     ]
    },
    {
     "name": "stderr",
     "output_type": "stream",
     "text": [
      "epoch:  92%|█████████████████████████████████████████████████████████████████████▍     | 37/40 [18:13<01:28, 29.56s/it]"
     ]
    },
    {
     "name": "stdout",
     "output_type": "stream",
     "text": [
      "\n",
      "Epoch 037 train_loss: 0.1880     val_loss 0.1887 train_acc 0.9386 val_acc 0.9402\n",
      "loss 0.17707763820886613\n"
     ]
    },
    {
     "name": "stderr",
     "output_type": "stream",
     "text": [
      "epoch:  95%|███████████████████████████████████████████████████████████████████████▎   | 38/40 [18:43<00:59, 29.73s/it]"
     ]
    },
    {
     "name": "stdout",
     "output_type": "stream",
     "text": [
      "\n",
      "Epoch 038 train_loss: 0.1771     val_loss 0.1779 train_acc 0.9384 val_acc 0.9449\n",
      "loss 0.16619869883060456\n"
     ]
    },
    {
     "name": "stderr",
     "output_type": "stream",
     "text": [
      "epoch:  98%|█████████████████████████████████████████████████████████████████████████▏ | 39/40 [19:13<00:29, 29.81s/it]"
     ]
    },
    {
     "name": "stdout",
     "output_type": "stream",
     "text": [
      "\n",
      "Epoch 039 train_loss: 0.1662     val_loss 0.1720 train_acc 0.9458 val_acc 0.9474\n",
      "loss 0.169485884436965\n"
     ]
    },
    {
     "name": "stderr",
     "output_type": "stream",
     "text": [
      "epoch: 100%|███████████████████████████████████████████████████████████████████████████| 40/40 [19:43<00:00, 29.59s/it]"
     ]
    },
    {
     "name": "stdout",
     "output_type": "stream",
     "text": [
      "\n",
      "Epoch 040 train_loss: 0.1695     val_loss 0.1636 train_acc 0.9472 val_acc 0.9475\n"
     ]
    },
    {
     "name": "stderr",
     "output_type": "stream",
     "text": [
      "\n"
     ]
    }
   ],
   "source": [
    "with Timer() as train_timer:\n",
    "    history = train(train_dataset, val_dataset, model=simple_cnn, epochs=epoch, batch_size=batch_size, num_samples=num_samples)"
   ]
  },
  {
   "cell_type": "code",
   "execution_count": 21,
   "id": "e44329f3-b455-4ad0-9dc9-74eaecf19006",
   "metadata": {},
   "outputs": [
    {
     "data": {
      "image/png": "[encoded data removed]",
      "text/plain": [
       "<Figure size 1500x900 with 1 Axes>"
      ]
     },
     "metadata": {},
     "output_type": "display_data"
    }
   ],
   "source": [
    "train_loss, train_acc, val_loss, val_acc = zip(*history)\n",
    "\n",
    "plt.figure(figsize=(15, 9))\n",
    "plt.plot(train_loss, label=\"train_loss\")\n",
    "plt.plot(val_loss, label=\"val_loss\")\n",
    "plt.xlabel(\"epochs\")\n",
    "plt.ylabel(\"loss\")\n",
    "plt.show()"
   ]
  },
  {
   "cell_type": "code",
   "execution_count": 22,
   "id": "5ef5fa31-ed9c-4a06-8d33-27bbbea59887",
   "metadata": {},
   "outputs": [],
   "source": [
    "test_img = [test_dataset[i][0].unsqueeze(0) for i in range(len(test_dataset))]\n",
    "\n",
    "with Timer() as test_timer:\n",
    "    test_pred = predict(simple_cnn, test_img)\n",
    "    y_pred = np.argmax(test_pred,-1)\n"
   ]
  },
  {
   "cell_type": "markdown",
   "id": "f5256aac-ef21-441c-a616-66ef1e642840",
   "metadata": {},
   "source": [
    "#### Accuracy по классам"
   ]
  },
  {
   "cell_type": "code",
   "execution_count": 23,
   "id": "3548ac11-3791-48dd-bb67-e0df8e6ecd10",
   "metadata": {},
   "outputs": [
    {
     "name": "stdout",
     "output_type": "stream",
     "text": [
      "ACCURACY [0.9897959183673469, 0.986784140969163, 0.9874031007751938, 0.994059405940594, 0.9419551934826884, 0.9932735426008968, 0.9937369519832986, 0.9688715953307393, 0.9825462012320328, 0.9871159563924677]\n"
     ]
    }
   ],
   "source": [
    "proba_ = predict(simple_cnn, DataLoader(test_dataset, batch_size=1, shuffle=False))\n",
    "predict_ = np.argmax(proba_, -1)\n",
    "actual_labels = [el[1] for el in test_dataset]\n",
    "\n",
    "matrix = confusion_matrix(actual_labels, predict_)\n",
    "ac_class = matrix.diagonal() / matrix.sum(axis=1)\n",
    "print('ACCURACY', list(ac_class))"
   ]
  },
  {
   "cell_type": "markdown",
   "id": "95019db1-6833-45ce-9f1a-60dbe12e9d07",
   "metadata": {},
   "source": [
    "#### Общий accuracy"
   ]
  },
  {
   "cell_type": "code",
   "execution_count": 24,
   "id": "48c66854-4529-4b40-99cf-1a6a60bf32b6",
   "metadata": {},
   "outputs": [
    {
     "name": "stdout",
     "output_type": "stream",
     "text": [
      "ACCURACY general: 0.9825 ACCURACY by classes: 0.9825542007074421\n"
     ]
    }
   ],
   "source": [
    "actual_labels =[test_dataset[i][1] for i in range(len(test_dataset))]\n",
    "\n",
    "ac = accuracy_score(actual_labels, y_pred)\n",
    "\n",
    "print(\"ACCURACY general:\", ac, 'ACCURACY by classes:', sum(ac_class) / 10)"
   ]
  },
  {
   "cell_type": "code",
   "execution_count": 25,
   "id": "e2678450-2c30-4b1d-bcc6-cdd8cc0c65b4",
   "metadata": {},
   "outputs": [
    {
     "data": {
      "text/plain": [
       "'LeNet'"
      ]
     },
     "execution_count": 25,
     "metadata": {},
     "output_type": "execute_result"
    }
   ],
   "source": [
    "simple_cnn.__class__.__name__"
   ]
  },
  {
   "cell_type": "code",
   "execution_count": 26,
   "id": "613db09b-fa57-4a63-a2ba-eac4c4cd3cb7",
   "metadata": {},
   "outputs": [
    {
     "name": "stdout",
     "output_type": "stream",
     "text": [
      "alpha=[60.0, 60.0], sigma=[5.0, 5.0], interpolation=InterpolationMode.BILINEAR, fill=[0.0]\n",
      "degrees=[-30.0, 30.0], interpolation=nearest, expand=False, fill=0\n",
      "{'epoch': 40, 'batch_size': 64, 'ElasticTransform': 'alpha=[60.0, 60.0], sigma=[5.0, 5.0], interpolation=InterpolationMode.BILINEAR, fill=[0.0]', 'RandomRotation': 'degrees=[-30.0, 30.0], interpolation=nearest, expand=False, fill=0'}\n"
     ]
    }
   ],
   "source": [
    "params = {\"epoch\": epoch, \"batch_size\": batch_size}\n",
    "\n",
    "for transform_el in get_transform().transforms:\n",
    "    val = re.sub(r'\\w+\\(', '', str(transform_el))[:-1]\n",
    "    \n",
    "    if not val:\n",
    "        continue\n",
    "    \n",
    "    if transform_el.__class__.__name__=='RandomPerspective':\n",
    "        val=f'{val}, distortion_scale={distortion_scale}'\n",
    "    print(val)\n",
    "    params[transform_el.__class__.__name__] = val\n",
    "\n",
    "print(params)"
   ]
  },
  {
   "cell_type": "markdown",
   "id": "b3d2081e-a3dd-4731-8f07-6afb7d6bf74f",
   "metadata": {},
   "source": [
    "## Логирование в MLFlow"
   ]
  },
  {
   "cell_type": "code",
   "execution_count": 28,
   "id": "472e4bb1-2147-4894-ae80-6eea5a653c6e",
   "metadata": {},
   "outputs": [
    {
     "name": "stderr",
     "output_type": "stream",
     "text": [
      "Registered model 'LeNet' already exists. Creating a new version of this model...\n",
      "Created version '95' of model 'LeNet'.\n"
     ]
    }
   ],
   "source": [
    "model_name = simple_cnn.__class__.__name__\n",
    "\n",
    "params = {\"epoch\": epoch, \"batch_size\": batch_size, \"num_samples\": num_samples}\n",
    "\n",
    "for transform_el in get_transform().transforms:\n",
    "    val = re.sub(r'\\w+\\(', '', str(transform_el))[:-1]\n",
    "    \n",
    "    if not val:\n",
    "        continue\n",
    "\n",
    "    if transform_el.__class__.__name__=='RandomPerspective':\n",
    "        val=f'{val}, distortion_scale={distortion_scale}'\n",
    "    \n",
    "    params[transform_el.__class__.__name__] = val\n",
    "\n",
    "\n",
    "mlflow.set_tracking_uri(uri=\"sqlite:///mlruns.db\")\n",
    "mlflow.set_experiment(model_name)\n",
    "\n",
    "\n",
    "with mlflow.start_run(run_name=model_name):\n",
    "    # Log the hyperparameters\n",
    "    mlflow.log_params(params)\n",
    "\n",
    "    # Log the metric\n",
    "    mlflow.log_metric(\"accuracy\", ac)\n",
    "    mlflow.log_metric(\"train_time_seconds\", train_timer.float_round())\n",
    "    mlflow.log_metric(\"pred_time_seconds\", test_timer.float_round())\n",
    "\n",
    "    for i in range(10):\n",
    "         mlflow.log_metric(f\"accuracy_{i}\", round(ac_class[i], 5))\n",
    "\n",
    "    # Log the model\n",
    "    model_info = mlflow.pytorch.log_model(\n",
    "        pytorch_model=simple_cnn,\n",
    "        artifact_path=model_name,\n",
    "        #signature = infer_signature(train_set_array, train_pred),\n",
    "        #input_example=train_set_array,\n",
    "        registered_model_name=model_name,\n",
    "    )"
   ]
  },
  {
   "cell_type": "code",
   "execution_count": null,
   "id": "50b85742-d022-45ec-8d6e-89e92ee11d8f",
   "metadata": {},
   "outputs": [],
   "source": []
  }
 ],
 "metadata": {
  "kernelspec": {
   "display_name": "Python 3 (ipykernel)",
   "language": "python",
   "name": "python3"
  },
  "language_info": {
   "codemirror_mode": {
    "name": "ipython",
    "version": 3
   },
   "file_extension": ".py",
   "mimetype": "text/x-python",
   "name": "python",
   "nbconvert_exporter": "python",
   "pygments_lexer": "ipython3",
   "version": "3.12.2"
  }
 },
 "nbformat": 4,
 "nbformat_minor": 5
}
